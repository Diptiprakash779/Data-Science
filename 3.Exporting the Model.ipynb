{
 "cells": [
  {
   "cell_type": "code",
   "execution_count": null,
   "metadata": {},
   "outputs": [],
   "source": []
  },
  {
   "cell_type": "code",
   "execution_count": 1,
   "metadata": {},
   "outputs": [
    {
     "ename": "ModuleNotFoundError",
     "evalue": "No module named 'flasgger'",
     "output_type": "error",
     "traceback": [
      "\u001b[1;31m---------------------------------------------------------------------------\u001b[0m",
      "\u001b[1;31mModuleNotFoundError\u001b[0m                       Traceback (most recent call last)",
      "\u001b[1;32m<ipython-input-1-fd47abf2e585>\u001b[0m in \u001b[0;36m<module>\u001b[1;34m\u001b[0m\n\u001b[0;32m      2\u001b[0m \u001b[1;32mimport\u001b[0m \u001b[0mpandas\u001b[0m \u001b[1;32mas\u001b[0m \u001b[0mpd\u001b[0m\u001b[1;33m\u001b[0m\u001b[1;33m\u001b[0m\u001b[0m\n\u001b[0;32m      3\u001b[0m \u001b[1;32mfrom\u001b[0m \u001b[0mflask\u001b[0m \u001b[1;32mimport\u001b[0m \u001b[0mFlask\u001b[0m\u001b[1;33m,\u001b[0m\u001b[0mrequest\u001b[0m\u001b[1;33m\u001b[0m\u001b[1;33m\u001b[0m\u001b[0m\n\u001b[1;32m----> 4\u001b[1;33m \u001b[1;32mimport\u001b[0m \u001b[0mflasgger\u001b[0m\u001b[1;33m\u001b[0m\u001b[1;33m\u001b[0m\u001b[0m\n\u001b[0m\u001b[0;32m      5\u001b[0m \u001b[1;32mfrom\u001b[0m \u001b[0mflasgger\u001b[0m \u001b[1;32mimport\u001b[0m \u001b[0mSwagger\u001b[0m\u001b[1;33m\u001b[0m\u001b[1;33m\u001b[0m\u001b[0m\n\u001b[0;32m      6\u001b[0m \u001b[1;32mfrom\u001b[0m \u001b[0msklearn\u001b[0m\u001b[1;33m.\u001b[0m\u001b[0mpreprocessing\u001b[0m \u001b[1;32mimport\u001b[0m \u001b[0mStandardScaler\u001b[0m\u001b[1;33m\u001b[0m\u001b[1;33m\u001b[0m\u001b[0m\n",
      "\u001b[1;31mModuleNotFoundError\u001b[0m: No module named 'flasgger'"
     ]
    }
   ],
   "source": [
    "import pickle as pkl\n",
    "import pandas as pd\n",
    "from flask import Flask,request\n",
    "import flasgger\n",
    "from flasgger import Swagger\n",
    "from sklearn.preprocessing import StandardScaler"
   ]
  },
  {
   "cell_type": "code",
   "execution_count": null,
   "metadata": {},
   "outputs": [],
   "source": [
    "# reading the model from the file\n",
    "fp = open(\"model.pkl\",\"rb\")\n",
    "model = pkl.load(fp)"
   ]
  },
  {
   "cell_type": "code",
   "execution_count": null,
   "metadata": {
    "scrolled": true
   },
   "outputs": [],
   "source": [
    "#creating api , format of flask api\n",
    "app = Flask(__name__)\n",
    "Swagger(app)"
   ]
  },
  {
   "cell_type": "markdown",
   "metadata": {},
   "source": [
    "Creating a route with home page to check wheather the address and port of local host working correctly or not"
   ]
  },
  {
   "cell_type": "code",
   "execution_count": null,
   "metadata": {},
   "outputs": [],
   "source": [
    "@app.route('/')\n",
    "def welcome():\n",
    "   \n",
    "    return \"WELCOME USER---type /apidocs for the swagger page where you can enter the data\"\n"
   ]
  },
  {
   "cell_type": "markdown",
   "metadata": {},
   "source": [
    "Creating a get request for collecting parametrs one by one for checking the \"CHURN_FLAG\" of a single customer"
   ]
  },
  {
   "cell_type": "code",
   "execution_count": null,
   "metadata": {},
   "outputs": [],
   "source": [
    "#creating Query set for running the swagger inide the flasgger\n",
    "@app.route('/predict',methods = [\"Get\"])\n",
    "\n",
    "def predict():    \n",
    "    \"\"\"PREDICTS THE CHURN_FLAG of a customer\n",
    "    NO_CHURN_Company \n",
    "    prediction for single customer.\n",
    "    ---\n",
    "    parameters:\n",
    "        - name: International_Plan\n",
    "          in: query\n",
    "          type: float\n",
    "          required : false     \n",
    "        - name: VMail_Plan\n",
    "          in: query\n",
    "          type: float\n",
    "          required : false         \n",
    "        - name: Day_Mins\n",
    "          in: query\n",
    "          type: float\n",
    "          required : false         \n",
    "        - name: Eve_Mins\n",
    "          in: query\n",
    "          type: float\n",
    "          required : false          \n",
    "        - name: Night_Mins\n",
    "          in: query\n",
    "          type: float\n",
    "          required : false\n",
    "        - name: International_Mins\n",
    "          in: query\n",
    "          type: float\n",
    "          required : false        \n",
    "        - name: International_calls\n",
    "          in: query\n",
    "          type: float\n",
    "          required : false         \n",
    "        - name: CustServ_Calls\n",
    "          in: query\n",
    "          type: float\n",
    "          required : false\n",
    "    responses:\n",
    "        200:\n",
    "            description: Output values\n",
    "    \"\"\"\n",
    "    #loading all parameter values that are received using the get request and loaded into separate variables\n",
    "    \n",
    "    International_Plan = request.args.get(\"International_Plan\")\n",
    "    VMail_Plan = request.args.get(\"VMail_Plan\")\n",
    "    Day_Mins = request.args.get(\"Day_Mins\")\n",
    "    Eve_Mins = request.args.get(\"Eve_Mins\")\n",
    "    Night_Mins = request.args.get(\"Night_Mins\")\n",
    "    International_Mins = request.args.get(\"International_Mins\")\n",
    "    International_calls = request.args.get(\"International_calls\")\n",
    "    CustServ_Calls = request.args.get(\"CustServ_Calls\")\n",
    "    \n",
    "    #creating a parameter list which contains all the parametrs\n",
    "    parameters = [International_Plan,VMail_Plan,Day_Mins,Eve_Mins,Night_Mins,International_Mins,International_calls,CustServ_Calls]\n",
    "    \n",
    "    \n",
    "    #running a for loop to check all the parametrs are entered or not\n",
    "    for x,i in enumerate(parameters):\n",
    "        if i == None:\n",
    "            return \" you didn't enter the value for some parameters.\"\n",
    "        \n",
    "    #checking with model and returning the output on screen   \n",
    "    prediction1 = model.predict([parameters])\n",
    "    return \"predicteded value is : \" + str(prediction1)\n"
   ]
  },
  {
   "cell_type": "code",
   "execution_count": null,
   "metadata": {},
   "outputs": [],
   "source": [
    "#here we are using post method for collecting the file adress\n",
    "@app.route('/predict_file',methods = ['POST'])\n",
    "def predict_file():\n",
    "    \"\"\"PREDICT THE CHURN_FLAG OF SOME CUSTOMER DATASET\n",
    "    NO_CHURN_COMPANY \n",
    "    prediction for a listof customers\n",
    "    ---\n",
    "    parameters:\n",
    "        - name: FILE_NAME\n",
    "          in: formData\n",
    "          type: file\n",
    "          required: true\n",
    "          \n",
    "    responses:\n",
    "        200:\n",
    "            description: Output values\n",
    "    \n",
    "    \"\"\"\n",
    "    \n",
    "    data = pd.read_csv(request.files.get('FILE_NAME'))\n",
    "    data_scaled =StandardScaler().fit_transform(data) \n",
    "    prediction2 = model.predict(data_scaled)\n",
    "    prediction3 = pd.DataFrame(prediction2.astype(int),columns=[\"CHURN_FLAG\"])\n",
    "    pd.concat([data,prediction3],axis=1).to_csv(\"test_data_out\",index=False)\n",
    "    return \"predicteded 'CHURN_FLAG' for the input file is : \" + str(prediction2.astype(int))"
   ]
  },
  {
   "cell_type": "markdown",
   "metadata": {},
   "source": [
    "-> reading the data set,sciling the dataset,predicting the \"CHURN_FLAG\" ,printing the CHURN_FLAG in flasgger,saving the dataset    with CHURN_FLAG as \"test_data_out\""
   ]
  },
  {
   "cell_type": "code",
   "execution_count": null,
   "metadata": {},
   "outputs": [],
   "source": [
    "# calling the app function "
   ]
  },
  {
   "cell_type": "code",
   "execution_count": null,
   "metadata": {},
   "outputs": [],
   "source": [
    "if __name__ == \"__main__\":\n",
    "    app.run()"
   ]
  },
  {
   "cell_type": "code",
   "execution_count": null,
   "metadata": {},
   "outputs": [],
   "source": []
  },
  {
   "cell_type": "code",
   "execution_count": null,
   "metadata": {},
   "outputs": [],
   "source": []
  }
 ],
 "metadata": {
  "kernelspec": {
   "display_name": "Python 3",
   "language": "python",
   "name": "python3"
  },
  "language_info": {
   "codemirror_mode": {
    "name": "ipython",
    "version": 3
   },
   "file_extension": ".py",
   "mimetype": "text/x-python",
   "name": "python",
   "nbconvert_exporter": "python",
   "pygments_lexer": "ipython3",
   "version": "3.7.6"
  }
 },
 "nbformat": 4,
 "nbformat_minor": 4
}
