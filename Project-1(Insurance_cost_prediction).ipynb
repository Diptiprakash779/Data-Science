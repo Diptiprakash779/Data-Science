{
 "cells": [
  {
   "cell_type": "markdown",
   "metadata": {},
   "source": [
    "# Predicting insurance cost(Regression problem)\n",
    "\n",
    "- We have a dataset ie \"datasets_13720_18513_insurance(1).csv\" which is based on insurance cost we will have to predict the   insurance cost here.\n",
    "- It's a regression problem so we will have to use regression models like \"LinearRegression\",\"RandomForestRegressor\" etc.\n",
    "\n",
    "\n",
    "## importing necessary packages"
   ]
  },
  {
   "cell_type": "code",
   "execution_count": 1,
   "metadata": {},
   "outputs": [],
   "source": [
    "import numpy as np\n",
    "import pandas as pd\n",
    "from sklearn.linear_model import LinearRegression\n",
    "from sklearn.model_selection import train_test_split\n",
    "from sklearn.metrics import r2_score\n",
    "from scipy import stats\n",
    "import seaborn as sb\n",
    "from sklearn.preprocessing import LabelEncoder\n",
    "from sklearn.model_selection import cross_val_score\n"
   ]
  },
  {
   "cell_type": "markdown",
   "metadata": {},
   "source": [
    "## Loading the dataset"
   ]
  },
  {
   "cell_type": "code",
   "execution_count": 3,
   "metadata": {},
   "outputs": [
    {
     "data": {
      "text/html": [
       "<div>\n",
       "<style scoped>\n",
       "    .dataframe tbody tr th:only-of-type {\n",
       "        vertical-align: middle;\n",
       "    }\n",
       "\n",
       "    .dataframe tbody tr th {\n",
       "        vertical-align: top;\n",
       "    }\n",
       "\n",
       "    .dataframe thead th {\n",
       "        text-align: right;\n",
       "    }\n",
       "</style>\n",
       "<table border=\"1\" class=\"dataframe\">\n",
       "  <thead>\n",
       "    <tr style=\"text-align: right;\">\n",
       "      <th></th>\n",
       "      <th>age</th>\n",
       "      <th>sex</th>\n",
       "      <th>bmi</th>\n",
       "      <th>children</th>\n",
       "      <th>smoker</th>\n",
       "      <th>region</th>\n",
       "      <th>charges</th>\n",
       "    </tr>\n",
       "  </thead>\n",
       "  <tbody>\n",
       "    <tr>\n",
       "      <th>0</th>\n",
       "      <td>19</td>\n",
       "      <td>female</td>\n",
       "      <td>27.900</td>\n",
       "      <td>0</td>\n",
       "      <td>yes</td>\n",
       "      <td>southwest</td>\n",
       "      <td>16884.92400</td>\n",
       "    </tr>\n",
       "    <tr>\n",
       "      <th>1</th>\n",
       "      <td>18</td>\n",
       "      <td>male</td>\n",
       "      <td>33.770</td>\n",
       "      <td>1</td>\n",
       "      <td>no</td>\n",
       "      <td>southeast</td>\n",
       "      <td>1725.55230</td>\n",
       "    </tr>\n",
       "    <tr>\n",
       "      <th>2</th>\n",
       "      <td>28</td>\n",
       "      <td>male</td>\n",
       "      <td>33.000</td>\n",
       "      <td>3</td>\n",
       "      <td>no</td>\n",
       "      <td>southeast</td>\n",
       "      <td>4449.46200</td>\n",
       "    </tr>\n",
       "    <tr>\n",
       "      <th>3</th>\n",
       "      <td>33</td>\n",
       "      <td>male</td>\n",
       "      <td>22.705</td>\n",
       "      <td>0</td>\n",
       "      <td>no</td>\n",
       "      <td>northwest</td>\n",
       "      <td>21984.47061</td>\n",
       "    </tr>\n",
       "    <tr>\n",
       "      <th>4</th>\n",
       "      <td>32</td>\n",
       "      <td>male</td>\n",
       "      <td>28.880</td>\n",
       "      <td>0</td>\n",
       "      <td>no</td>\n",
       "      <td>northwest</td>\n",
       "      <td>3866.85520</td>\n",
       "    </tr>\n",
       "  </tbody>\n",
       "</table>\n",
       "</div>"
      ],
      "text/plain": [
       "   age     sex     bmi  children smoker     region      charges\n",
       "0   19  female  27.900         0    yes  southwest  16884.92400\n",
       "1   18    male  33.770         1     no  southeast   1725.55230\n",
       "2   28    male  33.000         3     no  southeast   4449.46200\n",
       "3   33    male  22.705         0     no  northwest  21984.47061\n",
       "4   32    male  28.880         0     no  northwest   3866.85520"
      ]
     },
     "execution_count": 3,
     "metadata": {},
     "output_type": "execute_result"
    }
   ],
   "source": [
    "data = pd.read_csv(\"datasets_13720_18513_insurance(1).csv\")\n",
    "data.head()"
   ]
  },
  {
   "cell_type": "markdown",
   "metadata": {},
   "source": [
    "## Basic checks"
   ]
  },
  {
   "cell_type": "code",
   "execution_count": 22,
   "metadata": {},
   "outputs": [
    {
     "data": {
      "text/plain": [
       "(1338, 7)"
      ]
     },
     "execution_count": 22,
     "metadata": {},
     "output_type": "execute_result"
    }
   ],
   "source": [
    "data.shape"
   ]
  },
  {
   "cell_type": "code",
   "execution_count": 23,
   "metadata": {},
   "outputs": [
    {
     "data": {
      "text/plain": [
       "age         0\n",
       "sex         0\n",
       "bmi         0\n",
       "children    0\n",
       "smoker      0\n",
       "region      0\n",
       "charges     0\n",
       "dtype: int64"
      ]
     },
     "execution_count": 23,
     "metadata": {},
     "output_type": "execute_result"
    }
   ],
   "source": [
    "data.isnull().sum()"
   ]
  },
  {
   "cell_type": "markdown",
   "metadata": {},
   "source": [
    "## Normality check"
   ]
  },
  {
   "cell_type": "code",
   "execution_count": 24,
   "metadata": {
    "scrolled": true
   },
   "outputs": [
    {
     "data": {
      "text/plain": [
       "<matplotlib.axes._subplots.AxesSubplot at 0x258fd2fbb08>"
      ]
     },
     "execution_count": 24,
     "metadata": {},
     "output_type": "execute_result"
    },
    {
     "data": {
      "image/png": "[encoded data removed]",
      "text/plain": [
       "<Figure size 432x288 with 1 Axes>"
      ]
     },
     "metadata": {
      "needs_background": "light"
     },
     "output_type": "display_data"
    }
   ],
   "source": [
    "%matplotlib inline\n",
    "sb.distplot(data.charges)"
   ]
  },
  {
   "cell_type": "code",
   "execution_count": 25,
   "metadata": {},
   "outputs": [
    {
     "name": "stdout",
     "output_type": "stream",
     "text": [
      "skewness of charges : 1.5141797118745743\n",
      "kurtosis of charges : 1.595821363956751\n"
     ]
    }
   ],
   "source": [
    "print(\"skewness of charges :\",stats.skew(data.charges))\n",
    "print(\"kurtosis of charges :\",stats.kurtosis(data.charges))"
   ]
  },
  {
   "cell_type": "markdown",
   "metadata": {},
   "source": [
    "## Define X,y"
   ]
  },
  {
   "cell_type": "code",
   "execution_count": 26,
   "metadata": {},
   "outputs": [],
   "source": [
    "X = data.iloc[:,:-1]\n",
    "y = data.charges"
   ]
  },
  {
   "cell_type": "code",
   "execution_count": 27,
   "metadata": {},
   "outputs": [
    {
     "data": {
      "text/html": [
       "<div>\n",
       "<style scoped>\n",
       "    .dataframe tbody tr th:only-of-type {\n",
       "        vertical-align: middle;\n",
       "    }\n",
       "\n",
       "    .dataframe tbody tr th {\n",
       "        vertical-align: top;\n",
       "    }\n",
       "\n",
       "    .dataframe thead th {\n",
       "        text-align: right;\n",
       "    }\n",
       "</style>\n",
       "<table border=\"1\" class=\"dataframe\">\n",
       "  <thead>\n",
       "    <tr style=\"text-align: right;\">\n",
       "      <th></th>\n",
       "      <th>age</th>\n",
       "      <th>sex</th>\n",
       "      <th>bmi</th>\n",
       "      <th>children</th>\n",
       "      <th>smoker</th>\n",
       "      <th>region</th>\n",
       "    </tr>\n",
       "  </thead>\n",
       "  <tbody>\n",
       "    <tr>\n",
       "      <th>0</th>\n",
       "      <td>19</td>\n",
       "      <td>female</td>\n",
       "      <td>27.900</td>\n",
       "      <td>0</td>\n",
       "      <td>yes</td>\n",
       "      <td>southwest</td>\n",
       "    </tr>\n",
       "    <tr>\n",
       "      <th>1</th>\n",
       "      <td>18</td>\n",
       "      <td>male</td>\n",
       "      <td>33.770</td>\n",
       "      <td>1</td>\n",
       "      <td>no</td>\n",
       "      <td>southeast</td>\n",
       "    </tr>\n",
       "    <tr>\n",
       "      <th>2</th>\n",
       "      <td>28</td>\n",
       "      <td>male</td>\n",
       "      <td>33.000</td>\n",
       "      <td>3</td>\n",
       "      <td>no</td>\n",
       "      <td>southeast</td>\n",
       "    </tr>\n",
       "    <tr>\n",
       "      <th>3</th>\n",
       "      <td>33</td>\n",
       "      <td>male</td>\n",
       "      <td>22.705</td>\n",
       "      <td>0</td>\n",
       "      <td>no</td>\n",
       "      <td>northwest</td>\n",
       "    </tr>\n",
       "    <tr>\n",
       "      <th>4</th>\n",
       "      <td>32</td>\n",
       "      <td>male</td>\n",
       "      <td>28.880</td>\n",
       "      <td>0</td>\n",
       "      <td>no</td>\n",
       "      <td>northwest</td>\n",
       "    </tr>\n",
       "    <tr>\n",
       "      <th>...</th>\n",
       "      <td>...</td>\n",
       "      <td>...</td>\n",
       "      <td>...</td>\n",
       "      <td>...</td>\n",
       "      <td>...</td>\n",
       "      <td>...</td>\n",
       "    </tr>\n",
       "    <tr>\n",
       "      <th>1333</th>\n",
       "      <td>50</td>\n",
       "      <td>male</td>\n",
       "      <td>30.970</td>\n",
       "      <td>3</td>\n",
       "      <td>no</td>\n",
       "      <td>northwest</td>\n",
       "    </tr>\n",
       "    <tr>\n",
       "      <th>1334</th>\n",
       "      <td>18</td>\n",
       "      <td>female</td>\n",
       "      <td>31.920</td>\n",
       "      <td>0</td>\n",
       "      <td>no</td>\n",
       "      <td>northeast</td>\n",
       "    </tr>\n",
       "    <tr>\n",
       "      <th>1335</th>\n",
       "      <td>18</td>\n",
       "      <td>female</td>\n",
       "      <td>36.850</td>\n",
       "      <td>0</td>\n",
       "      <td>no</td>\n",
       "      <td>southeast</td>\n",
       "    </tr>\n",
       "    <tr>\n",
       "      <th>1336</th>\n",
       "      <td>21</td>\n",
       "      <td>female</td>\n",
       "      <td>25.800</td>\n",
       "      <td>0</td>\n",
       "      <td>no</td>\n",
       "      <td>southwest</td>\n",
       "    </tr>\n",
       "    <tr>\n",
       "      <th>1337</th>\n",
       "      <td>61</td>\n",
       "      <td>female</td>\n",
       "      <td>29.070</td>\n",
       "      <td>0</td>\n",
       "      <td>yes</td>\n",
       "      <td>northwest</td>\n",
       "    </tr>\n",
       "  </tbody>\n",
       "</table>\n",
       "<p>1338 rows × 6 columns</p>\n",
       "</div>"
      ],
      "text/plain": [
       "      age     sex     bmi  children smoker     region\n",
       "0      19  female  27.900         0    yes  southwest\n",
       "1      18    male  33.770         1     no  southeast\n",
       "2      28    male  33.000         3     no  southeast\n",
       "3      33    male  22.705         0     no  northwest\n",
       "4      32    male  28.880         0     no  northwest\n",
       "...   ...     ...     ...       ...    ...        ...\n",
       "1333   50    male  30.970         3     no  northwest\n",
       "1334   18  female  31.920         0     no  northeast\n",
       "1335   18  female  36.850         0     no  southeast\n",
       "1336   21  female  25.800         0     no  southwest\n",
       "1337   61  female  29.070         0    yes  northwest\n",
       "\n",
       "[1338 rows x 6 columns]"
      ]
     },
     "execution_count": 27,
     "metadata": {},
     "output_type": "execute_result"
    }
   ],
   "source": [
    "X"
   ]
  },
  {
   "cell_type": "code",
   "execution_count": 28,
   "metadata": {},
   "outputs": [
    {
     "data": {
      "text/plain": [
       "0       16884.92400\n",
       "1        1725.55230\n",
       "2        4449.46200\n",
       "3       21984.47061\n",
       "4        3866.85520\n",
       "           ...     \n",
       "1333    10600.54830\n",
       "1334     2205.98080\n",
       "1335     1629.83350\n",
       "1336     2007.94500\n",
       "1337    29141.36030\n",
       "Name: charges, Length: 1338, dtype: float64"
      ]
     },
     "execution_count": 28,
     "metadata": {},
     "output_type": "execute_result"
    }
   ],
   "source": [
    "y"
   ]
  },
  {
   "cell_type": "code",
   "execution_count": 29,
   "metadata": {},
   "outputs": [],
   "source": [
    "enc = LabelEncoder()\n",
    "X.sex= enc.fit_transform(X.sex)\n",
    "X.smoker = enc.fit_transform(X.smoker)\n",
    "X.region = enc.fit_transform(X.region)"
   ]
  },
  {
   "cell_type": "markdown",
   "metadata": {},
   "source": [
    "## Spliting the data"
   ]
  },
  {
   "cell_type": "code",
   "execution_count": 30,
   "metadata": {},
   "outputs": [],
   "source": [
    "X_train,X_test,y_train,y_test = train_test_split(X,y,test_size =0.15,random_state =10)"
   ]
  },
  {
   "cell_type": "code",
   "execution_count": 31,
   "metadata": {},
   "outputs": [
    {
     "name": "stdout",
     "output_type": "stream",
     "text": [
      "X_train shape: (1137, 6)\n",
      "X_test shape: (201, 6)\n",
      "y_train shape: (1137,)\n",
      "y_test shape: (201,)\n"
     ]
    }
   ],
   "source": [
    "print(\"X_train shape:\",X_train.shape)\n",
    "print(\"X_test shape:\",X_test.shape)\n",
    "print(\"y_train shape:\",y_train.shape)\n",
    "print(\"y_test shape:\",y_test.shape)"
   ]
  },
  {
   "cell_type": "markdown",
   "metadata": {},
   "source": [
    "## Defining the model ,training it \n",
    "\n",
    "## Using LinearRegression "
   ]
  },
  {
   "cell_type": "code",
   "execution_count": 32,
   "metadata": {},
   "outputs": [
    {
     "data": {
      "text/plain": [
       "LinearRegression(copy_X=True, fit_intercept=True, n_jobs=None, normalize=False)"
      ]
     },
     "execution_count": 32,
     "metadata": {},
     "output_type": "execute_result"
    }
   ],
   "source": [
    "model_insurance = LinearRegression()\n",
    "model_insurance.fit(X_train,y_train)"
   ]
  },
  {
   "cell_type": "markdown",
   "metadata": {},
   "source": [
    "## Checking the range of accuracy by using cross_val_score"
   ]
  },
  {
   "cell_type": "code",
   "execution_count": 33,
   "metadata": {},
   "outputs": [],
   "source": [
    "a = cross_val_score(model_insurance,X,y)"
   ]
  },
  {
   "cell_type": "code",
   "execution_count": 34,
   "metadata": {},
   "outputs": [
    {
     "name": "stdout",
     "output_type": "stream",
     "text": [
      "[0.76123983 0.70838663 0.77786772 0.73365206 0.7551335 ]\n"
     ]
    }
   ],
   "source": [
    "print(a)"
   ]
  },
  {
   "cell_type": "code",
   "execution_count": 35,
   "metadata": {},
   "outputs": [],
   "source": [
    "b = cross_val_score(model_insurance,X,y,cv=5)"
   ]
  },
  {
   "cell_type": "code",
   "execution_count": 36,
   "metadata": {},
   "outputs": [],
   "source": [
    "y_predict= model_insurance.predict(X_test)"
   ]
  },
  {
   "cell_type": "code",
   "execution_count": 37,
   "metadata": {},
   "outputs": [
    {
     "data": {
      "text/plain": [
       "0.6827034881260194"
      ]
     },
     "execution_count": 37,
     "metadata": {},
     "output_type": "execute_result"
    }
   ],
   "source": [
    "r2_score(y_test,y_predict)"
   ]
  },
  {
   "cell_type": "markdown",
   "metadata": {},
   "source": [
    "So here if we find the accuracy then we will get the accuracy range is very less so we will have to channge the algotithm.\n",
    "\n",
    "\n",
    "## Using RandomForestRegressor algorithm"
   ]
  },
  {
   "cell_type": "code",
   "execution_count": 38,
   "metadata": {},
   "outputs": [],
   "source": [
    "from sklearn.ensemble import RandomForestRegressor\n"
   ]
  },
  {
   "cell_type": "markdown",
   "metadata": {},
   "source": [
    "## Defining randomforest model,training it and predicting the insurance cost"
   ]
  },
  {
   "cell_type": "code",
   "execution_count": 39,
   "metadata": {},
   "outputs": [
    {
     "data": {
      "text/plain": [
       "RandomForestRegressor(bootstrap=True, ccp_alpha=0.0, criterion='mse',\n",
       "                      max_depth=10, max_features='auto', max_leaf_nodes=None,\n",
       "                      max_samples=None, min_impurity_decrease=0.0,\n",
       "                      min_impurity_split=None, min_samples_leaf=1,\n",
       "                      min_samples_split=2, min_weight_fraction_leaf=0.0,\n",
       "                      n_estimators=100, n_jobs=None, oob_score=False,\n",
       "                      random_state=10, verbose=0, warm_start=False)"
      ]
     },
     "execution_count": 39,
     "metadata": {},
     "output_type": "execute_result"
    }
   ],
   "source": [
    "model_insurance_rfr = RandomForestRegressor(max_depth=10,n_estimators=100,random_state=10)\n",
    "model_insurance_rfr.fit(X_train,y_train)\n"
   ]
  },
  {
   "cell_type": "code",
   "execution_count": 40,
   "metadata": {},
   "outputs": [],
   "source": [
    "y_predict_rfr = model_insurance_rfr.predict(X_test)"
   ]
  },
  {
   "cell_type": "code",
   "execution_count": 41,
   "metadata": {},
   "outputs": [
    {
     "data": {
      "text/plain": [
       "0.7973721012097956"
      ]
     },
     "execution_count": 41,
     "metadata": {},
     "output_type": "execute_result"
    }
   ],
   "source": [
    "r2_score(y_test,y_predict_rfr)"
   ]
  },
  {
   "cell_type": "markdown",
   "metadata": {},
   "source": [
    "## Checking the accuracy range for randomforest model by using cross_val_score"
   ]
  },
  {
   "cell_type": "code",
   "execution_count": 42,
   "metadata": {},
   "outputs": [],
   "source": [
    "c = cross_val_score(model_insurance_rfr,X,y,cv=10)"
   ]
  },
  {
   "cell_type": "code",
   "execution_count": 43,
   "metadata": {},
   "outputs": [
    {
     "data": {
      "text/plain": [
       "array([0.86979017, 0.83850127, 0.82251862, 0.73826422, 0.85917353,\n",
       "       0.89487166, 0.85529912, 0.78571459, 0.8419946 , 0.86925067])"
      ]
     },
     "execution_count": 43,
     "metadata": {},
     "output_type": "execute_result"
    }
   ],
   "source": [
    "c"
   ]
  },
  {
   "cell_type": "markdown",
   "metadata": {},
   "source": [
    "## Hyper parametre tuning by using GridSearchCV"
   ]
  },
  {
   "cell_type": "code",
   "execution_count": 44,
   "metadata": {},
   "outputs": [],
   "source": [
    "from sklearn.model_selection import GridSearchCV"
   ]
  },
  {
   "cell_type": "code",
   "execution_count": 45,
   "metadata": {},
   "outputs": [],
   "source": [
    "parameter= {\n",
    "            'n_estimators':[10],\n",
    "            'max_depth':[3,4,5],\n",
    "            \"max_samples\" : [200,300,400],\n",
    "            \"min_samples_split\": [5,10,20,30]}"
   ]
  },
  {
   "cell_type": "code",
   "execution_count": 46,
   "metadata": {},
   "outputs": [
    {
     "name": "stdout",
     "output_type": "stream",
     "text": [
      "Fitting 5 folds for each of 36 candidates, totalling 180 fits\n",
      "[CV] max_depth=3, max_samples=200, min_samples_split=5, n_estimators=10 \n",
      "[CV]  max_depth=3, max_samples=200, min_samples_split=5, n_estimators=10, total=   0.0s\n",
      "[CV] max_depth=3, max_samples=200, min_samples_split=5, n_estimators=10 \n",
      "[CV]  max_depth=3, max_samples=200, min_samples_split=5, n_estimators=10, total=   0.0s\n",
      "[CV] max_depth=3, max_samples=200, min_samples_split=5, n_estimators=10 \n",
      "[CV]  max_depth=3, max_samples=200, min_samples_split=5, n_estimators=10, total=   0.0s\n",
      "[CV] max_depth=3, max_samples=200, min_samples_split=5, n_estimators=10 \n",
      "[CV]  max_depth=3, max_samples=200, min_samples_split=5, n_estimators=10, total=   0.0s\n",
      "[CV] max_depth=3, max_samples=200, min_samples_split=5, n_estimators=10 \n",
      "[CV]  max_depth=3, max_samples=200, min_samples_split=5, n_estimators=10, total=   0.0s\n",
      "[CV] max_depth=3, max_samples=200, min_samples_split=10, n_estimators=10 \n",
      "[CV]  max_depth=3, max_samples=200, min_samples_split=10, n_estimators=10, total=   0.0s\n",
      "[CV] max_depth=3, max_samples=200, min_samples_split=10, n_estimators=10 \n",
      "[CV]  max_depth=3, max_samples=200, min_samples_split=10, n_estimators=10, total=   0.0s"
     ]
    },
    {
     "name": "stderr",
     "output_type": "stream",
     "text": [
      "[Parallel(n_jobs=1)]: Using backend SequentialBackend with 1 concurrent workers.\n",
      "[Parallel(n_jobs=1)]: Done   1 out of   1 | elapsed:    0.0s remaining:    0.0s\n"
     ]
    },
    {
     "name": "stdout",
     "output_type": "stream",
     "text": [
      "\n",
      "[CV] max_depth=3, max_samples=200, min_samples_split=10, n_estimators=10 \n",
      "[CV]  max_depth=3, max_samples=200, min_samples_split=10, n_estimators=10, total=   0.0s\n",
      "[CV] max_depth=3, max_samples=200, min_samples_split=10, n_estimators=10 \n",
      "[CV]  max_depth=3, max_samples=200, min_samples_split=10, n_estimators=10, total=   0.0s\n",
      "[CV] max_depth=3, max_samples=200, min_samples_split=10, n_estimators=10 \n",
      "[CV]  max_depth=3, max_samples=200, min_samples_split=10, n_estimators=10, total=   0.0s\n",
      "[CV] max_depth=3, max_samples=200, min_samples_split=20, n_estimators=10 \n",
      "[CV]  max_depth=3, max_samples=200, min_samples_split=20, n_estimators=10, total=   0.0s\n",
      "[CV] max_depth=3, max_samples=200, min_samples_split=20, n_estimators=10 \n",
      "[CV]  max_depth=3, max_samples=200, min_samples_split=20, n_estimators=10, total=   0.0s\n",
      "[CV] max_depth=3, max_samples=200, min_samples_split=20, n_estimators=10 \n",
      "[CV]  max_depth=3, max_samples=200, min_samples_split=20, n_estimators=10, total=   0.0s\n",
      "[CV] max_depth=3, max_samples=200, min_samples_split=20, n_estimators=10 \n",
      "[CV]  max_depth=3, max_samples=200, min_samples_split=20, n_estimators=10, total=   0.0s\n",
      "[CV] max_depth=3, max_samples=200, min_samples_split=20, n_estimators=10 \n",
      "[CV]  max_depth=3, max_samples=200, min_samples_split=20, n_estimators=10, total=   0.0s\n",
      "[CV] max_depth=3, max_samples=200, min_samples_split=30, n_estimators=10 \n",
      "[CV]  max_depth=3, max_samples=200, min_samples_split=30, n_estimators=10, total=   0.0s\n",
      "[CV] max_depth=3, max_samples=200, min_samples_split=30, n_estimators=10 \n",
      "[CV]  max_depth=3, max_samples=200, min_samples_split=30, n_estimators=10, total=   0.0s\n",
      "[CV] max_depth=3, max_samples=200, min_samples_split=30, n_estimators=10 \n",
      "[CV]  max_depth=3, max_samples=200, min_samples_split=30, n_estimators=10, total=   0.0s\n",
      "[CV] max_depth=3, max_samples=200, min_samples_split=30, n_estimators=10 \n",
      "[CV]  max_depth=3, max_samples=200, min_samples_split=30, n_estimators=10, total=   0.0s\n",
      "[CV] max_depth=3, max_samples=200, min_samples_split=30, n_estimators=10 \n",
      "[CV]  max_depth=3, max_samples=200, min_samples_split=30, n_estimators=10, total=   0.0s\n",
      "[CV] max_depth=3, max_samples=300, min_samples_split=5, n_estimators=10 \n",
      "[CV]  max_depth=3, max_samples=300, min_samples_split=5, n_estimators=10, total=   0.0s\n",
      "[CV] max_depth=3, max_samples=300, min_samples_split=5, n_estimators=10 \n",
      "[CV]  max_depth=3, max_samples=300, min_samples_split=5, n_estimators=10, total=   0.0s\n",
      "[CV] max_depth=3, max_samples=300, min_samples_split=5, n_estimators=10 \n",
      "[CV]  max_depth=3, max_samples=300, min_samples_split=5, n_estimators=10, total=   0.0s\n",
      "[CV] max_depth=3, max_samples=300, min_samples_split=5, n_estimators=10 \n",
      "[CV]  max_depth=3, max_samples=300, min_samples_split=5, n_estimators=10, total=   0.0s\n",
      "[CV] max_depth=3, max_samples=300, min_samples_split=5, n_estimators=10 \n",
      "[CV]  max_depth=3, max_samples=300, min_samples_split=5, n_estimators=10, total=   0.0s\n",
      "[CV] max_depth=3, max_samples=300, min_samples_split=10, n_estimators=10 \n",
      "[CV]  max_depth=3, max_samples=300, min_samples_split=10, n_estimators=10, total=   0.0s\n",
      "[CV] max_depth=3, max_samples=300, min_samples_split=10, n_estimators=10 \n",
      "[CV]  max_depth=3, max_samples=300, min_samples_split=10, n_estimators=10, total=   0.0s\n",
      "[CV] max_depth=3, max_samples=300, min_samples_split=10, n_estimators=10 \n",
      "[CV]  max_depth=3, max_samples=300, min_samples_split=10, n_estimators=10, total=   0.0s\n",
      "[CV] max_depth=3, max_samples=300, min_samples_split=10, n_estimators=10 \n",
      "[CV]  max_depth=3, max_samples=300, min_samples_split=10, n_estimators=10, total=   0.0s\n",
      "[CV] max_depth=3, max_samples=300, min_samples_split=10, n_estimators=10 \n",
      "[CV]  max_depth=3, max_samples=300, min_samples_split=10, n_estimators=10, total=   0.0s\n",
      "[CV] max_depth=3, max_samples=300, min_samples_split=20, n_estimators=10 \n",
      "[CV]  max_depth=3, max_samples=300, min_samples_split=20, n_estimators=10, total=   0.0s\n",
      "[CV] max_depth=3, max_samples=300, min_samples_split=20, n_estimators=10 \n",
      "[CV]  max_depth=3, max_samples=300, min_samples_split=20, n_estimators=10, total=   0.0s\n",
      "[CV] max_depth=3, max_samples=300, min_samples_split=20, n_estimators=10 \n",
      "[CV]  max_depth=3, max_samples=300, min_samples_split=20, n_estimators=10, total=   0.0s\n",
      "[CV] max_depth=3, max_samples=300, min_samples_split=20, n_estimators=10 \n",
      "[CV]  max_depth=3, max_samples=300, min_samples_split=20, n_estimators=10, total=   0.0s\n",
      "[CV] max_depth=3, max_samples=300, min_samples_split=20, n_estimators=10 \n",
      "[CV]  max_depth=3, max_samples=300, min_samples_split=20, n_estimators=10, total=   0.0s\n",
      "[CV] max_depth=3, max_samples=300, min_samples_split=30, n_estimators=10 \n",
      "[CV]  max_depth=3, max_samples=300, min_samples_split=30, n_estimators=10, total=   0.0s\n",
      "[CV] max_depth=3, max_samples=300, min_samples_split=30, n_estimators=10 \n",
      "[CV]  max_depth=3, max_samples=300, min_samples_split=30, n_estimators=10, total=   0.0s\n",
      "[CV] max_depth=3, max_samples=300, min_samples_split=30, n_estimators=10 \n",
      "[CV]  max_depth=3, max_samples=300, min_samples_split=30, n_estimators=10, total=   0.0s\n",
      "[CV] max_depth=3, max_samples=300, min_samples_split=30, n_estimators=10 \n",
      "[CV]  max_depth=3, max_samples=300, min_samples_split=30, n_estimators=10, total=   0.0s\n",
      "[CV] max_depth=3, max_samples=300, min_samples_split=30, n_estimators=10 \n",
      "[CV]  max_depth=3, max_samples=300, min_samples_split=30, n_estimators=10, total=   0.0s\n",
      "[CV] max_depth=3, max_samples=400, min_samples_split=5, n_estimators=10 \n",
      "[CV]  max_depth=3, max_samples=400, min_samples_split=5, n_estimators=10, total=   0.0s\n",
      "[CV] max_depth=3, max_samples=400, min_samples_split=5, n_estimators=10 \n",
      "[CV]  max_depth=3, max_samples=400, min_samples_split=5, n_estimators=10, total=   0.0s\n",
      "[CV] max_depth=3, max_samples=400, min_samples_split=5, n_estimators=10 \n",
      "[CV]  max_depth=3, max_samples=400, min_samples_split=5, n_estimators=10, total=   0.0s\n",
      "[CV] max_depth=3, max_samples=400, min_samples_split=5, n_estimators=10 \n",
      "[CV]  max_depth=3, max_samples=400, min_samples_split=5, n_estimators=10, total=   0.0s\n",
      "[CV] max_depth=3, max_samples=400, min_samples_split=5, n_estimators=10 \n",
      "[CV]  max_depth=3, max_samples=400, min_samples_split=5, n_estimators=10, total=   0.0s\n",
      "[CV] max_depth=3, max_samples=400, min_samples_split=10, n_estimators=10 \n",
      "[CV]  max_depth=3, max_samples=400, min_samples_split=10, n_estimators=10, total=   0.0s\n",
      "[CV] max_depth=3, max_samples=400, min_samples_split=10, n_estimators=10 \n",
      "[CV]  max_depth=3, max_samples=400, min_samples_split=10, n_estimators=10, total=   0.0s\n",
      "[CV] max_depth=3, max_samples=400, min_samples_split=10, n_estimators=10 \n",
      "[CV]  max_depth=3, max_samples=400, min_samples_split=10, n_estimators=10, total=   0.0s\n",
      "[CV] max_depth=3, max_samples=400, min_samples_split=10, n_estimators=10 \n",
      "[CV]  max_depth=3, max_samples=400, min_samples_split=10, n_estimators=10, total=   0.0s\n",
      "[CV] max_depth=3, max_samples=400, min_samples_split=10, n_estimators=10 \n",
      "[CV]  max_depth=3, max_samples=400, min_samples_split=10, n_estimators=10, total=   0.0s\n",
      "[CV] max_depth=3, max_samples=400, min_samples_split=20, n_estimators=10 \n",
      "[CV]  max_depth=3, max_samples=400, min_samples_split=20, n_estimators=10, total=   0.0s\n",
      "[CV] max_depth=3, max_samples=400, min_samples_split=20, n_estimators=10 \n",
      "[CV]  max_depth=3, max_samples=400, min_samples_split=20, n_estimators=10, total=   0.0s\n",
      "[CV] max_depth=3, max_samples=400, min_samples_split=20, n_estimators=10 \n",
      "[CV]  max_depth=3, max_samples=400, min_samples_split=20, n_estimators=10, total=   0.0s\n",
      "[CV] max_depth=3, max_samples=400, min_samples_split=20, n_estimators=10 \n",
      "[CV]  max_depth=3, max_samples=400, min_samples_split=20, n_estimators=10, total=   0.0s\n",
      "[CV] max_depth=3, max_samples=400, min_samples_split=20, n_estimators=10 \n",
      "[CV]  max_depth=3, max_samples=400, min_samples_split=20, n_estimators=10, total=   0.0s\n",
      "[CV] max_depth=3, max_samples=400, min_samples_split=30, n_estimators=10 \n",
      "[CV]  max_depth=3, max_samples=400, min_samples_split=30, n_estimators=10, total=   0.0s\n",
      "[CV] max_depth=3, max_samples=400, min_samples_split=30, n_estimators=10 \n",
      "[CV]  max_depth=3, max_samples=400, min_samples_split=30, n_estimators=10, total=   0.0s\n",
      "[CV] max_depth=3, max_samples=400, min_samples_split=30, n_estimators=10 \n",
      "[CV]  max_depth=3, max_samples=400, min_samples_split=30, n_estimators=10, total=   0.0s\n",
      "[CV] max_depth=3, max_samples=400, min_samples_split=30, n_estimators=10 \n",
      "[CV]  max_depth=3, max_samples=400, min_samples_split=30, n_estimators=10, total=   0.0s\n",
      "[CV] max_depth=3, max_samples=400, min_samples_split=30, n_estimators=10 \n"
     ]
    },
    {
     "name": "stdout",
     "output_type": "stream",
     "text": [
      "[CV]  max_depth=3, max_samples=400, min_samples_split=30, n_estimators=10, total=   0.0s\n",
      "[CV] max_depth=4, max_samples=200, min_samples_split=5, n_estimators=10 \n",
      "[CV]  max_depth=4, max_samples=200, min_samples_split=5, n_estimators=10, total=   0.0s\n",
      "[CV] max_depth=4, max_samples=200, min_samples_split=5, n_estimators=10 \n",
      "[CV]  max_depth=4, max_samples=200, min_samples_split=5, n_estimators=10, total=   0.0s\n",
      "[CV] max_depth=4, max_samples=200, min_samples_split=5, n_estimators=10 \n",
      "[CV]  max_depth=4, max_samples=200, min_samples_split=5, n_estimators=10, total=   0.0s\n",
      "[CV] max_depth=4, max_samples=200, min_samples_split=5, n_estimators=10 \n",
      "[CV]  max_depth=4, max_samples=200, min_samples_split=5, n_estimators=10, total=   0.0s\n",
      "[CV] max_depth=4, max_samples=200, min_samples_split=5, n_estimators=10 \n",
      "[CV]  max_depth=4, max_samples=200, min_samples_split=5, n_estimators=10, total=   0.0s\n",
      "[CV] max_depth=4, max_samples=200, min_samples_split=10, n_estimators=10 \n",
      "[CV]  max_depth=4, max_samples=200, min_samples_split=10, n_estimators=10, total=   0.0s\n",
      "[CV] max_depth=4, max_samples=200, min_samples_split=10, n_estimators=10 \n",
      "[CV]  max_depth=4, max_samples=200, min_samples_split=10, n_estimators=10, total=   0.0s\n",
      "[CV] max_depth=4, max_samples=200, min_samples_split=10, n_estimators=10 \n",
      "[CV]  max_depth=4, max_samples=200, min_samples_split=10, n_estimators=10, total=   0.0s\n",
      "[CV] max_depth=4, max_samples=200, min_samples_split=10, n_estimators=10 \n",
      "[CV]  max_depth=4, max_samples=200, min_samples_split=10, n_estimators=10, total=   0.0s\n",
      "[CV] max_depth=4, max_samples=200, min_samples_split=10, n_estimators=10 \n",
      "[CV]  max_depth=4, max_samples=200, min_samples_split=10, n_estimators=10, total=   0.0s\n",
      "[CV] max_depth=4, max_samples=200, min_samples_split=20, n_estimators=10 \n",
      "[CV]  max_depth=4, max_samples=200, min_samples_split=20, n_estimators=10, total=   0.0s\n",
      "[CV] max_depth=4, max_samples=200, min_samples_split=20, n_estimators=10 \n",
      "[CV]  max_depth=4, max_samples=200, min_samples_split=20, n_estimators=10, total=   0.0s\n",
      "[CV] max_depth=4, max_samples=200, min_samples_split=20, n_estimators=10 \n",
      "[CV]  max_depth=4, max_samples=200, min_samples_split=20, n_estimators=10, total=   0.0s\n",
      "[CV] max_depth=4, max_samples=200, min_samples_split=20, n_estimators=10 \n",
      "[CV]  max_depth=4, max_samples=200, min_samples_split=20, n_estimators=10, total=   0.0s\n",
      "[CV] max_depth=4, max_samples=200, min_samples_split=20, n_estimators=10 \n",
      "[CV]  max_depth=4, max_samples=200, min_samples_split=20, n_estimators=10, total=   0.0s\n",
      "[CV] max_depth=4, max_samples=200, min_samples_split=30, n_estimators=10 \n",
      "[CV]  max_depth=4, max_samples=200, min_samples_split=30, n_estimators=10, total=   0.0s\n",
      "[CV] max_depth=4, max_samples=200, min_samples_split=30, n_estimators=10 \n",
      "[CV]  max_depth=4, max_samples=200, min_samples_split=30, n_estimators=10, total=   0.0s\n",
      "[CV] max_depth=4, max_samples=200, min_samples_split=30, n_estimators=10 \n",
      "[CV]  max_depth=4, max_samples=200, min_samples_split=30, n_estimators=10, total=   0.0s\n",
      "[CV] max_depth=4, max_samples=200, min_samples_split=30, n_estimators=10 \n",
      "[CV]  max_depth=4, max_samples=200, min_samples_split=30, n_estimators=10, total=   0.0s\n",
      "[CV] max_depth=4, max_samples=200, min_samples_split=30, n_estimators=10 \n",
      "[CV]  max_depth=4, max_samples=200, min_samples_split=30, n_estimators=10, total=   0.0s\n",
      "[CV] max_depth=4, max_samples=300, min_samples_split=5, n_estimators=10 \n",
      "[CV]  max_depth=4, max_samples=300, min_samples_split=5, n_estimators=10, total=   0.0s\n",
      "[CV] max_depth=4, max_samples=300, min_samples_split=5, n_estimators=10 \n",
      "[CV]  max_depth=4, max_samples=300, min_samples_split=5, n_estimators=10, total=   0.0s\n",
      "[CV] max_depth=4, max_samples=300, min_samples_split=5, n_estimators=10 \n",
      "[CV]  max_depth=4, max_samples=300, min_samples_split=5, n_estimators=10, total=   0.0s\n",
      "[CV] max_depth=4, max_samples=300, min_samples_split=5, n_estimators=10 \n",
      "[CV]  max_depth=4, max_samples=300, min_samples_split=5, n_estimators=10, total=   0.0s\n",
      "[CV] max_depth=4, max_samples=300, min_samples_split=5, n_estimators=10 \n",
      "[CV]  max_depth=4, max_samples=300, min_samples_split=5, n_estimators=10, total=   0.0s\n",
      "[CV] max_depth=4, max_samples=300, min_samples_split=10, n_estimators=10 \n",
      "[CV]  max_depth=4, max_samples=300, min_samples_split=10, n_estimators=10, total=   0.0s\n",
      "[CV] max_depth=4, max_samples=300, min_samples_split=10, n_estimators=10 \n",
      "[CV]  max_depth=4, max_samples=300, min_samples_split=10, n_estimators=10, total=   0.0s\n",
      "[CV] max_depth=4, max_samples=300, min_samples_split=10, n_estimators=10 \n",
      "[CV]  max_depth=4, max_samples=300, min_samples_split=10, n_estimators=10, total=   0.0s\n",
      "[CV] max_depth=4, max_samples=300, min_samples_split=10, n_estimators=10 \n",
      "[CV]  max_depth=4, max_samples=300, min_samples_split=10, n_estimators=10, total=   0.0s\n",
      "[CV] max_depth=4, max_samples=300, min_samples_split=10, n_estimators=10 \n",
      "[CV]  max_depth=4, max_samples=300, min_samples_split=10, n_estimators=10, total=   0.0s\n",
      "[CV] max_depth=4, max_samples=300, min_samples_split=20, n_estimators=10 \n",
      "[CV]  max_depth=4, max_samples=300, min_samples_split=20, n_estimators=10, total=   0.0s\n",
      "[CV] max_depth=4, max_samples=300, min_samples_split=20, n_estimators=10 \n",
      "[CV]  max_depth=4, max_samples=300, min_samples_split=20, n_estimators=10, total=   0.0s\n",
      "[CV] max_depth=4, max_samples=300, min_samples_split=20, n_estimators=10 \n",
      "[CV]  max_depth=4, max_samples=300, min_samples_split=20, n_estimators=10, total=   0.0s\n",
      "[CV] max_depth=4, max_samples=300, min_samples_split=20, n_estimators=10 \n",
      "[CV]  max_depth=4, max_samples=300, min_samples_split=20, n_estimators=10, total=   0.0s\n",
      "[CV] max_depth=4, max_samples=300, min_samples_split=20, n_estimators=10 \n",
      "[CV]  max_depth=4, max_samples=300, min_samples_split=20, n_estimators=10, total=   0.0s\n",
      "[CV] max_depth=4, max_samples=300, min_samples_split=30, n_estimators=10 \n",
      "[CV]  max_depth=4, max_samples=300, min_samples_split=30, n_estimators=10, total=   0.0s\n",
      "[CV] max_depth=4, max_samples=300, min_samples_split=30, n_estimators=10 \n",
      "[CV]  max_depth=4, max_samples=300, min_samples_split=30, n_estimators=10, total=   0.0s\n",
      "[CV] max_depth=4, max_samples=300, min_samples_split=30, n_estimators=10 \n",
      "[CV]  max_depth=4, max_samples=300, min_samples_split=30, n_estimators=10, total=   0.0s\n",
      "[CV] max_depth=4, max_samples=300, min_samples_split=30, n_estimators=10 \n",
      "[CV]  max_depth=4, max_samples=300, min_samples_split=30, n_estimators=10, total=   0.0s\n",
      "[CV] max_depth=4, max_samples=300, min_samples_split=30, n_estimators=10 \n",
      "[CV]  max_depth=4, max_samples=300, min_samples_split=30, n_estimators=10, total=   0.0s\n",
      "[CV] max_depth=4, max_samples=400, min_samples_split=5, n_estimators=10 \n",
      "[CV]  max_depth=4, max_samples=400, min_samples_split=5, n_estimators=10, total=   0.0s\n",
      "[CV] max_depth=4, max_samples=400, min_samples_split=5, n_estimators=10 \n",
      "[CV]  max_depth=4, max_samples=400, min_samples_split=5, n_estimators=10, total=   0.0s\n",
      "[CV] max_depth=4, max_samples=400, min_samples_split=5, n_estimators=10 \n",
      "[CV]  max_depth=4, max_samples=400, min_samples_split=5, n_estimators=10, total=   0.0s\n",
      "[CV] max_depth=4, max_samples=400, min_samples_split=5, n_estimators=10 \n",
      "[CV]  max_depth=4, max_samples=400, min_samples_split=5, n_estimators=10, total=   0.0s\n",
      "[CV] max_depth=4, max_samples=400, min_samples_split=5, n_estimators=10 \n",
      "[CV]  max_depth=4, max_samples=400, min_samples_split=5, n_estimators=10, total=   0.0s\n",
      "[CV] max_depth=4, max_samples=400, min_samples_split=10, n_estimators=10 \n",
      "[CV]  max_depth=4, max_samples=400, min_samples_split=10, n_estimators=10, total=   0.0s\n",
      "[CV] max_depth=4, max_samples=400, min_samples_split=10, n_estimators=10 \n",
      "[CV]  max_depth=4, max_samples=400, min_samples_split=10, n_estimators=10, total=   0.0s\n",
      "[CV] max_depth=4, max_samples=400, min_samples_split=10, n_estimators=10 \n",
      "[CV]  max_depth=4, max_samples=400, min_samples_split=10, n_estimators=10, total=   0.0s\n",
      "[CV] max_depth=4, max_samples=400, min_samples_split=10, n_estimators=10 \n",
      "[CV]  max_depth=4, max_samples=400, min_samples_split=10, n_estimators=10, total=   0.0s\n",
      "[CV] max_depth=4, max_samples=400, min_samples_split=10, n_estimators=10 \n",
      "[CV]  max_depth=4, max_samples=400, min_samples_split=10, n_estimators=10, total=   0.0s\n",
      "[CV] max_depth=4, max_samples=400, min_samples_split=20, n_estimators=10 \n",
      "[CV]  max_depth=4, max_samples=400, min_samples_split=20, n_estimators=10, total=   0.0s\n",
      "[CV] max_depth=4, max_samples=400, min_samples_split=20, n_estimators=10 \n",
      "[CV]  max_depth=4, max_samples=400, min_samples_split=20, n_estimators=10, total=   0.0s\n",
      "[CV] max_depth=4, max_samples=400, min_samples_split=20, n_estimators=10 \n",
      "[CV]  max_depth=4, max_samples=400, min_samples_split=20, n_estimators=10, total=   0.0s\n",
      "[CV] max_depth=4, max_samples=400, min_samples_split=20, n_estimators=10 \n",
      "[CV]  max_depth=4, max_samples=400, min_samples_split=20, n_estimators=10, total=   0.0s\n",
      "[CV] max_depth=4, max_samples=400, min_samples_split=20, n_estimators=10 \n",
      "[CV]  max_depth=4, max_samples=400, min_samples_split=20, n_estimators=10, total=   0.0s\n",
      "[CV] max_depth=4, max_samples=400, min_samples_split=30, n_estimators=10 \n"
     ]
    },
    {
     "name": "stdout",
     "output_type": "stream",
     "text": [
      "[CV]  max_depth=4, max_samples=400, min_samples_split=30, n_estimators=10, total=   0.0s\n",
      "[CV] max_depth=4, max_samples=400, min_samples_split=30, n_estimators=10 \n",
      "[CV]  max_depth=4, max_samples=400, min_samples_split=30, n_estimators=10, total=   0.0s\n",
      "[CV] max_depth=4, max_samples=400, min_samples_split=30, n_estimators=10 \n",
      "[CV]  max_depth=4, max_samples=400, min_samples_split=30, n_estimators=10, total=   0.0s\n",
      "[CV] max_depth=4, max_samples=400, min_samples_split=30, n_estimators=10 \n",
      "[CV]  max_depth=4, max_samples=400, min_samples_split=30, n_estimators=10, total=   0.0s\n",
      "[CV] max_depth=4, max_samples=400, min_samples_split=30, n_estimators=10 \n",
      "[CV]  max_depth=4, max_samples=400, min_samples_split=30, n_estimators=10, total=   0.0s\n",
      "[CV] max_depth=5, max_samples=200, min_samples_split=5, n_estimators=10 \n",
      "[CV]  max_depth=5, max_samples=200, min_samples_split=5, n_estimators=10, total=   0.0s\n",
      "[CV] max_depth=5, max_samples=200, min_samples_split=5, n_estimators=10 \n",
      "[CV]  max_depth=5, max_samples=200, min_samples_split=5, n_estimators=10, total=   0.0s\n",
      "[CV] max_depth=5, max_samples=200, min_samples_split=5, n_estimators=10 \n",
      "[CV]  max_depth=5, max_samples=200, min_samples_split=5, n_estimators=10, total=   0.0s\n",
      "[CV] max_depth=5, max_samples=200, min_samples_split=5, n_estimators=10 \n",
      "[CV]  max_depth=5, max_samples=200, min_samples_split=5, n_estimators=10, total=   0.0s\n",
      "[CV] max_depth=5, max_samples=200, min_samples_split=5, n_estimators=10 \n",
      "[CV]  max_depth=5, max_samples=200, min_samples_split=5, n_estimators=10, total=   0.0s\n",
      "[CV] max_depth=5, max_samples=200, min_samples_split=10, n_estimators=10 \n",
      "[CV]  max_depth=5, max_samples=200, min_samples_split=10, n_estimators=10, total=   0.0s\n",
      "[CV] max_depth=5, max_samples=200, min_samples_split=10, n_estimators=10 \n",
      "[CV]  max_depth=5, max_samples=200, min_samples_split=10, n_estimators=10, total=   0.0s\n",
      "[CV] max_depth=5, max_samples=200, min_samples_split=10, n_estimators=10 \n",
      "[CV]  max_depth=5, max_samples=200, min_samples_split=10, n_estimators=10, total=   0.0s\n",
      "[CV] max_depth=5, max_samples=200, min_samples_split=10, n_estimators=10 \n",
      "[CV]  max_depth=5, max_samples=200, min_samples_split=10, n_estimators=10, total=   0.0s\n",
      "[CV] max_depth=5, max_samples=200, min_samples_split=10, n_estimators=10 \n",
      "[CV]  max_depth=5, max_samples=200, min_samples_split=10, n_estimators=10, total=   0.0s\n",
      "[CV] max_depth=5, max_samples=200, min_samples_split=20, n_estimators=10 \n",
      "[CV]  max_depth=5, max_samples=200, min_samples_split=20, n_estimators=10, total=   0.0s\n",
      "[CV] max_depth=5, max_samples=200, min_samples_split=20, n_estimators=10 \n",
      "[CV]  max_depth=5, max_samples=200, min_samples_split=20, n_estimators=10, total=   0.0s\n",
      "[CV] max_depth=5, max_samples=200, min_samples_split=20, n_estimators=10 \n",
      "[CV]  max_depth=5, max_samples=200, min_samples_split=20, n_estimators=10, total=   0.0s\n",
      "[CV] max_depth=5, max_samples=200, min_samples_split=20, n_estimators=10 \n",
      "[CV]  max_depth=5, max_samples=200, min_samples_split=20, n_estimators=10, total=   0.0s\n",
      "[CV] max_depth=5, max_samples=200, min_samples_split=20, n_estimators=10 \n",
      "[CV]  max_depth=5, max_samples=200, min_samples_split=20, n_estimators=10, total=   0.0s\n",
      "[CV] max_depth=5, max_samples=200, min_samples_split=30, n_estimators=10 \n",
      "[CV]  max_depth=5, max_samples=200, min_samples_split=30, n_estimators=10, total=   0.0s\n",
      "[CV] max_depth=5, max_samples=200, min_samples_split=30, n_estimators=10 \n",
      "[CV]  max_depth=5, max_samples=200, min_samples_split=30, n_estimators=10, total=   0.0s\n",
      "[CV] max_depth=5, max_samples=200, min_samples_split=30, n_estimators=10 \n",
      "[CV]  max_depth=5, max_samples=200, min_samples_split=30, n_estimators=10, total=   0.0s\n",
      "[CV] max_depth=5, max_samples=200, min_samples_split=30, n_estimators=10 \n",
      "[CV]  max_depth=5, max_samples=200, min_samples_split=30, n_estimators=10, total=   0.0s\n",
      "[CV] max_depth=5, max_samples=200, min_samples_split=30, n_estimators=10 \n",
      "[CV]  max_depth=5, max_samples=200, min_samples_split=30, n_estimators=10, total=   0.0s\n",
      "[CV] max_depth=5, max_samples=300, min_samples_split=5, n_estimators=10 \n",
      "[CV]  max_depth=5, max_samples=300, min_samples_split=5, n_estimators=10, total=   0.0s\n",
      "[CV] max_depth=5, max_samples=300, min_samples_split=5, n_estimators=10 \n",
      "[CV]  max_depth=5, max_samples=300, min_samples_split=5, n_estimators=10, total=   0.0s\n",
      "[CV] max_depth=5, max_samples=300, min_samples_split=5, n_estimators=10 \n",
      "[CV]  max_depth=5, max_samples=300, min_samples_split=5, n_estimators=10, total=   0.0s\n",
      "[CV] max_depth=5, max_samples=300, min_samples_split=5, n_estimators=10 \n",
      "[CV]  max_depth=5, max_samples=300, min_samples_split=5, n_estimators=10, total=   0.0s\n",
      "[CV] max_depth=5, max_samples=300, min_samples_split=5, n_estimators=10 \n",
      "[CV]  max_depth=5, max_samples=300, min_samples_split=5, n_estimators=10, total=   0.0s\n",
      "[CV] max_depth=5, max_samples=300, min_samples_split=10, n_estimators=10 \n",
      "[CV]  max_depth=5, max_samples=300, min_samples_split=10, n_estimators=10, total=   0.0s\n",
      "[CV] max_depth=5, max_samples=300, min_samples_split=10, n_estimators=10 \n",
      "[CV]  max_depth=5, max_samples=300, min_samples_split=10, n_estimators=10, total=   0.0s\n",
      "[CV] max_depth=5, max_samples=300, min_samples_split=10, n_estimators=10 \n",
      "[CV]  max_depth=5, max_samples=300, min_samples_split=10, n_estimators=10, total=   0.0s\n",
      "[CV] max_depth=5, max_samples=300, min_samples_split=10, n_estimators=10 \n",
      "[CV]  max_depth=5, max_samples=300, min_samples_split=10, n_estimators=10, total=   0.0s\n",
      "[CV] max_depth=5, max_samples=300, min_samples_split=10, n_estimators=10 \n",
      "[CV]  max_depth=5, max_samples=300, min_samples_split=10, n_estimators=10, total=   0.0s\n",
      "[CV] max_depth=5, max_samples=300, min_samples_split=20, n_estimators=10 \n",
      "[CV]  max_depth=5, max_samples=300, min_samples_split=20, n_estimators=10, total=   0.0s\n",
      "[CV] max_depth=5, max_samples=300, min_samples_split=20, n_estimators=10 \n",
      "[CV]  max_depth=5, max_samples=300, min_samples_split=20, n_estimators=10, total=   0.0s\n",
      "[CV] max_depth=5, max_samples=300, min_samples_split=20, n_estimators=10 \n",
      "[CV]  max_depth=5, max_samples=300, min_samples_split=20, n_estimators=10, total=   0.0s\n",
      "[CV] max_depth=5, max_samples=300, min_samples_split=20, n_estimators=10 \n",
      "[CV]  max_depth=5, max_samples=300, min_samples_split=20, n_estimators=10, total=   0.0s\n",
      "[CV] max_depth=5, max_samples=300, min_samples_split=20, n_estimators=10 \n",
      "[CV]  max_depth=5, max_samples=300, min_samples_split=20, n_estimators=10, total=   0.0s\n",
      "[CV] max_depth=5, max_samples=300, min_samples_split=30, n_estimators=10 \n",
      "[CV]  max_depth=5, max_samples=300, min_samples_split=30, n_estimators=10, total=   0.0s\n",
      "[CV] max_depth=5, max_samples=300, min_samples_split=30, n_estimators=10 \n",
      "[CV]  max_depth=5, max_samples=300, min_samples_split=30, n_estimators=10, total=   0.0s\n",
      "[CV] max_depth=5, max_samples=300, min_samples_split=30, n_estimators=10 \n",
      "[CV]  max_depth=5, max_samples=300, min_samples_split=30, n_estimators=10, total=   0.0s\n",
      "[CV] max_depth=5, max_samples=300, min_samples_split=30, n_estimators=10 \n",
      "[CV]  max_depth=5, max_samples=300, min_samples_split=30, n_estimators=10, total=   0.0s\n",
      "[CV] max_depth=5, max_samples=300, min_samples_split=30, n_estimators=10 \n",
      "[CV]  max_depth=5, max_samples=300, min_samples_split=30, n_estimators=10, total=   0.0s\n",
      "[CV] max_depth=5, max_samples=400, min_samples_split=5, n_estimators=10 \n",
      "[CV]  max_depth=5, max_samples=400, min_samples_split=5, n_estimators=10, total=   0.0s\n",
      "[CV] max_depth=5, max_samples=400, min_samples_split=5, n_estimators=10 \n",
      "[CV]  max_depth=5, max_samples=400, min_samples_split=5, n_estimators=10, total=   0.0s\n",
      "[CV] max_depth=5, max_samples=400, min_samples_split=5, n_estimators=10 \n",
      "[CV]  max_depth=5, max_samples=400, min_samples_split=5, n_estimators=10, total=   0.0s\n",
      "[CV] max_depth=5, max_samples=400, min_samples_split=5, n_estimators=10 \n",
      "[CV]  max_depth=5, max_samples=400, min_samples_split=5, n_estimators=10, total=   0.0s\n",
      "[CV] max_depth=5, max_samples=400, min_samples_split=5, n_estimators=10 \n",
      "[CV]  max_depth=5, max_samples=400, min_samples_split=5, n_estimators=10, total=   0.0s\n",
      "[CV] max_depth=5, max_samples=400, min_samples_split=10, n_estimators=10 \n",
      "[CV]  max_depth=5, max_samples=400, min_samples_split=10, n_estimators=10, total=   0.0s\n",
      "[CV] max_depth=5, max_samples=400, min_samples_split=10, n_estimators=10 \n",
      "[CV]  max_depth=5, max_samples=400, min_samples_split=10, n_estimators=10, total=   0.0s\n",
      "[CV] max_depth=5, max_samples=400, min_samples_split=10, n_estimators=10 \n",
      "[CV]  max_depth=5, max_samples=400, min_samples_split=10, n_estimators=10, total=   0.0s\n",
      "[CV] max_depth=5, max_samples=400, min_samples_split=10, n_estimators=10 \n",
      "[CV]  max_depth=5, max_samples=400, min_samples_split=10, n_estimators=10, total=   0.0s\n",
      "[CV] max_depth=5, max_samples=400, min_samples_split=10, n_estimators=10 \n",
      "[CV]  max_depth=5, max_samples=400, min_samples_split=10, n_estimators=10, total=   0.0s\n",
      "[CV] max_depth=5, max_samples=400, min_samples_split=20, n_estimators=10 \n",
      "[CV]  max_depth=5, max_samples=400, min_samples_split=20, n_estimators=10, total=   0.0s\n",
      "[CV] max_depth=5, max_samples=400, min_samples_split=20, n_estimators=10 \n",
      "[CV]  max_depth=5, max_samples=400, min_samples_split=20, n_estimators=10, total=   0.0s\n",
      "[CV] max_depth=5, max_samples=400, min_samples_split=20, n_estimators=10 \n",
      "[CV]  max_depth=5, max_samples=400, min_samples_split=20, n_estimators=10, total=   0.0s\n",
      "[CV] max_depth=5, max_samples=400, min_samples_split=20, n_estimators=10 \n"
     ]
    },
    {
     "name": "stdout",
     "output_type": "stream",
     "text": [
      "[CV]  max_depth=5, max_samples=400, min_samples_split=20, n_estimators=10, total=   0.0s\n",
      "[CV] max_depth=5, max_samples=400, min_samples_split=20, n_estimators=10 \n",
      "[CV]  max_depth=5, max_samples=400, min_samples_split=20, n_estimators=10, total=   0.0s\n",
      "[CV] max_depth=5, max_samples=400, min_samples_split=30, n_estimators=10 \n",
      "[CV]  max_depth=5, max_samples=400, min_samples_split=30, n_estimators=10, total=   0.0s\n",
      "[CV] max_depth=5, max_samples=400, min_samples_split=30, n_estimators=10 \n",
      "[CV]  max_depth=5, max_samples=400, min_samples_split=30, n_estimators=10, total=   0.0s\n",
      "[CV] max_depth=5, max_samples=400, min_samples_split=30, n_estimators=10 \n",
      "[CV]  max_depth=5, max_samples=400, min_samples_split=30, n_estimators=10, total=   0.0s\n",
      "[CV] max_depth=5, max_samples=400, min_samples_split=30, n_estimators=10 \n",
      "[CV]  max_depth=5, max_samples=400, min_samples_split=30, n_estimators=10, total=   0.0s\n",
      "[CV] max_depth=5, max_samples=400, min_samples_split=30, n_estimators=10 \n",
      "[CV]  max_depth=5, max_samples=400, min_samples_split=30, n_estimators=10, total=   0.0s\n"
     ]
    },
    {
     "name": "stderr",
     "output_type": "stream",
     "text": [
      "[Parallel(n_jobs=1)]: Done 180 out of 180 | elapsed:    3.2s finished\n"
     ]
    },
    {
     "data": {
      "text/plain": [
       "GridSearchCV(cv=None, error_score=nan,\n",
       "             estimator=RandomForestRegressor(bootstrap=True, ccp_alpha=0.0,\n",
       "                                             criterion='mse', max_depth=10,\n",
       "                                             max_features='auto',\n",
       "                                             max_leaf_nodes=None,\n",
       "                                             max_samples=None,\n",
       "                                             min_impurity_decrease=0.0,\n",
       "                                             min_impurity_split=None,\n",
       "                                             min_samples_leaf=1,\n",
       "                                             min_samples_split=2,\n",
       "                                             min_weight_fraction_leaf=0.0,\n",
       "                                             n_estimators=100, n_jobs=None,\n",
       "                                             oob_score=False, random_state=10,\n",
       "                                             verbose=0, warm_start=False),\n",
       "             iid='deprecated', n_jobs=None,\n",
       "             param_grid={'max_depth': [3, 4, 5], 'max_samples': [200, 300, 400],\n",
       "                         'min_samples_split': [5, 10, 20, 30],\n",
       "                         'n_estimators': [10]},\n",
       "             pre_dispatch='2*n_jobs', refit=True, return_train_score=False,\n",
       "             scoring='r2', verbose=2)"
      ]
     },
     "execution_count": 46,
     "metadata": {},
     "output_type": "execute_result"
    }
   ],
   "source": [
    "grid = GridSearchCV(model_insurance_rfr,parameter,scoring=\"r2\",verbose=2)\n",
    "grid.fit(X_train,y_train)"
   ]
  },
  {
   "cell_type": "code",
   "execution_count": 47,
   "metadata": {},
   "outputs": [
    {
     "data": {
      "text/plain": [
       "{'max_depth': 4,\n",
       " 'max_samples': 400,\n",
       " 'min_samples_split': 5,\n",
       " 'n_estimators': 10}"
      ]
     },
     "execution_count": 47,
     "metadata": {},
     "output_type": "execute_result"
    }
   ],
   "source": [
    "grid.best_params_"
   ]
  },
  {
   "cell_type": "code",
   "execution_count": 48,
   "metadata": {},
   "outputs": [
    {
     "data": {
      "text/plain": [
       "0.8653278325896185"
      ]
     },
     "execution_count": 48,
     "metadata": {},
     "output_type": "execute_result"
    }
   ],
   "source": [
    "grid.best_score_"
   ]
  },
  {
   "cell_type": "markdown",
   "metadata": {},
   "source": [
    "## Recreating model with best parametres from GridSearch_CV"
   ]
  },
  {
   "cell_type": "code",
   "execution_count": 50,
   "metadata": {},
   "outputs": [
    {
     "data": {
      "text/plain": [
       "0.8165254838331468"
      ]
     },
     "execution_count": 50,
     "metadata": {},
     "output_type": "execute_result"
    }
   ],
   "source": [
    "model_3 = RandomForestRegressor(max_depth=5,max_samples=200,min_samples_split=5,n_estimators=70,random_state=10)\n",
    "model_3.fit(X_train,y_train)\n",
    "y_predict=model_3.predict(X_test)\n",
    "r2_score(y_test,y_predict)"
   ]
  },
  {
   "cell_type": "markdown",
   "metadata": {},
   "source": [
    "As the accuracy of our model is 86% now ,RandomForestRegressor is the ideal model for this datasets."
   ]
  },
  {
   "cell_type": "code",
   "execution_count": 1,
   "metadata": {},
   "outputs": [
    {
     "data": {
      "text/plain": [
       "'C:\\\\Users\\\\Asus\\\\datamites capstone projects'"
      ]
     },
     "execution_count": 1,
     "metadata": {},
     "output_type": "execute_result"
    }
   ],
   "source": [
    "pwd"
   ]
  }
 ],
 "metadata": {
  "kernelspec": {
   "display_name": "Python 3",
   "language": "python",
   "name": "python3"
  },
  "language_info": {
   "codemirror_mode": {
    "name": "ipython",
    "version": 3
   },
   "file_extension": ".py",
   "mimetype": "text/x-python",
   "name": "python",
   "nbconvert_exporter": "python",
   "pygments_lexer": "ipython3",
   "version": "3.7.6"
  }
 },
 "nbformat": 4,
 "nbformat_minor": 4
}
