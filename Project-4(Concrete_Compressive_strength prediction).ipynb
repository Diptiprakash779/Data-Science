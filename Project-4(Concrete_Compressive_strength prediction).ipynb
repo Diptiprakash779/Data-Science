{
 "cells": [
  {
   "cell_type": "markdown",
   "metadata": {},
   "source": [
    "# CONCRETE COMPRESSIVE STRENGTH"
   ]
  },
  {
   "cell_type": "markdown",
   "metadata": {},
   "source": [
    "## importing necessary data packages"
   ]
  },
  {
   "cell_type": "code",
   "execution_count": 1,
   "metadata": {},
   "outputs": [],
   "source": [
    "import numpy as np\n",
    "import pandas as pd\n",
    "import seaborn as sb\n",
    "from sklearn.model_selection import train_test_split\n",
    "from sklearn.metrics import r2_score\n",
    "from scipy import stats\n",
    "from sklearn.preprocessing import scale,StandardScaler\n",
    "from sklearn.linear_model import LinearRegression\n",
    "from sklearn.model_selection import cross_val_score\n",
    "from sklearn.svm import SVR\n",
    "import xgboost\n",
    "from xgboost import XGBRegressor\n",
    "from sklearn.model_selection import RandomizedSearchCV"
   ]
  },
  {
   "cell_type": "markdown",
   "metadata": {},
   "source": [
    "## Load the Data"
   ]
  },
  {
   "cell_type": "code",
   "execution_count": 2,
   "metadata": {},
   "outputs": [
    {
     "data": {
      "text/html": [
       "<div>\n",
       "<style scoped>\n",
       "    .dataframe tbody tr th:only-of-type {\n",
       "        vertical-align: middle;\n",
       "    }\n",
       "\n",
       "    .dataframe tbody tr th {\n",
       "        vertical-align: top;\n",
       "    }\n",
       "\n",
       "    .dataframe thead th {\n",
       "        text-align: right;\n",
       "    }\n",
       "</style>\n",
       "<table border=\"1\" class=\"dataframe\">\n",
       "  <thead>\n",
       "    <tr style=\"text-align: right;\">\n",
       "      <th></th>\n",
       "      <th>cement</th>\n",
       "      <th>slag</th>\n",
       "      <th>ash</th>\n",
       "      <th>water</th>\n",
       "      <th>superplastic</th>\n",
       "      <th>coarseagg</th>\n",
       "      <th>fineagg</th>\n",
       "      <th>age</th>\n",
       "      <th>strength</th>\n",
       "    </tr>\n",
       "  </thead>\n",
       "  <tbody>\n",
       "    <tr>\n",
       "      <th>0</th>\n",
       "      <td>540.0</td>\n",
       "      <td>0.0</td>\n",
       "      <td>0.0</td>\n",
       "      <td>162.0</td>\n",
       "      <td>2.5</td>\n",
       "      <td>1040.0</td>\n",
       "      <td>676.0</td>\n",
       "      <td>28</td>\n",
       "      <td>79.99</td>\n",
       "    </tr>\n",
       "    <tr>\n",
       "      <th>1</th>\n",
       "      <td>540.0</td>\n",
       "      <td>0.0</td>\n",
       "      <td>0.0</td>\n",
       "      <td>162.0</td>\n",
       "      <td>2.5</td>\n",
       "      <td>1055.0</td>\n",
       "      <td>676.0</td>\n",
       "      <td>28</td>\n",
       "      <td>61.89</td>\n",
       "    </tr>\n",
       "    <tr>\n",
       "      <th>2</th>\n",
       "      <td>332.5</td>\n",
       "      <td>142.5</td>\n",
       "      <td>0.0</td>\n",
       "      <td>228.0</td>\n",
       "      <td>0.0</td>\n",
       "      <td>932.0</td>\n",
       "      <td>594.0</td>\n",
       "      <td>270</td>\n",
       "      <td>40.27</td>\n",
       "    </tr>\n",
       "    <tr>\n",
       "      <th>3</th>\n",
       "      <td>332.5</td>\n",
       "      <td>142.5</td>\n",
       "      <td>0.0</td>\n",
       "      <td>228.0</td>\n",
       "      <td>0.0</td>\n",
       "      <td>932.0</td>\n",
       "      <td>594.0</td>\n",
       "      <td>365</td>\n",
       "      <td>41.05</td>\n",
       "    </tr>\n",
       "    <tr>\n",
       "      <th>4</th>\n",
       "      <td>198.6</td>\n",
       "      <td>132.4</td>\n",
       "      <td>0.0</td>\n",
       "      <td>192.0</td>\n",
       "      <td>0.0</td>\n",
       "      <td>978.4</td>\n",
       "      <td>825.5</td>\n",
       "      <td>360</td>\n",
       "      <td>44.30</td>\n",
       "    </tr>\n",
       "  </tbody>\n",
       "</table>\n",
       "</div>"
      ],
      "text/plain": [
       "   cement   slag  ash  water  superplastic  coarseagg  fineagg  age  strength\n",
       "0   540.0    0.0  0.0  162.0           2.5     1040.0    676.0   28     79.99\n",
       "1   540.0    0.0  0.0  162.0           2.5     1055.0    676.0   28     61.89\n",
       "2   332.5  142.5  0.0  228.0           0.0      932.0    594.0  270     40.27\n",
       "3   332.5  142.5  0.0  228.0           0.0      932.0    594.0  365     41.05\n",
       "4   198.6  132.4  0.0  192.0           0.0      978.4    825.5  360     44.30"
      ]
     },
     "execution_count": 2,
     "metadata": {},
     "output_type": "execute_result"
    }
   ],
   "source": [
    "data=pd.read_csv(\"concrete.csv\")\n",
    "data.head()"
   ]
  },
  {
   "cell_type": "markdown",
   "metadata": {},
   "source": [
    "# EDA"
   ]
  },
  {
   "cell_type": "code",
   "execution_count": 4,
   "metadata": {},
   "outputs": [
    {
     "data": {
      "text/plain": [
       "(1030, 9)"
      ]
     },
     "execution_count": 4,
     "metadata": {},
     "output_type": "execute_result"
    }
   ],
   "source": [
    "data.shape"
   ]
  },
  {
   "cell_type": "code",
   "execution_count": 5,
   "metadata": {
    "scrolled": false
   },
   "outputs": [
    {
     "data": {
      "text/plain": [
       "cement          0\n",
       "slag            0\n",
       "ash             0\n",
       "water           0\n",
       "superplastic    0\n",
       "coarseagg       0\n",
       "fineagg         0\n",
       "age             0\n",
       "strength        0\n",
       "dtype: int64"
      ]
     },
     "execution_count": 5,
     "metadata": {},
     "output_type": "execute_result"
    }
   ],
   "source": [
    "data.isnull().sum()"
   ]
  },
  {
   "cell_type": "markdown",
   "metadata": {},
   "source": [
    "## Finding variancethreshold for droping features with low variance ie 0.1"
   ]
  },
  {
   "cell_type": "code",
   "execution_count": 8,
   "metadata": {},
   "outputs": [
    {
     "name": "stdout",
     "output_type": "stream",
     "text": [
      "skewness of data :  0.41636979411469355\n",
      "kurtosis of data :  -0.31802358543657805\n"
     ]
    }
   ],
   "source": [
    "print(\"skewness of data : \",stats.skew(data.strength))\n",
    "print(\"kurtosis of data : \",stats.kurtosis(data.strength))"
   ]
  },
  {
   "cell_type": "markdown",
   "metadata": {},
   "source": [
    "The skewness and kurtosis are in range"
   ]
  },
  {
   "cell_type": "markdown",
   "metadata": {},
   "source": [
    "## Visualization of target"
   ]
  },
  {
   "cell_type": "code",
   "execution_count": 9,
   "metadata": {
    "scrolled": true
   },
   "outputs": [
    {
     "data": {
      "text/plain": [
       "<matplotlib.axes._subplots.AxesSubplot at 0x277305120c8>"
      ]
     },
     "execution_count": 9,
     "metadata": {},
     "output_type": "execute_result"
    },
    {
     "data": {
      "image/png": "[encoded data removed]",
      "text/plain": [
       "<Figure size 432x288 with 1 Axes>"
      ]
     },
     "metadata": {
      "needs_background": "light"
     },
     "output_type": "display_data"
    }
   ],
   "source": [
    "sb.distplot(data.strength)"
   ]
  },
  {
   "cell_type": "markdown",
   "metadata": {},
   "source": [
    "from the above plot it is observed that the data is normal."
   ]
  },
  {
   "cell_type": "markdown",
   "metadata": {},
   "source": [
    "## Define X and y"
   ]
  },
  {
   "cell_type": "code",
   "execution_count": 10,
   "metadata": {},
   "outputs": [],
   "source": [
    "X= data.iloc[:,:-1]\n",
    "y=data.strength"
   ]
  },
  {
   "cell_type": "code",
   "execution_count": 11,
   "metadata": {},
   "outputs": [
    {
     "data": {
      "text/html": [
       "<div>\n",
       "<style scoped>\n",
       "    .dataframe tbody tr th:only-of-type {\n",
       "        vertical-align: middle;\n",
       "    }\n",
       "\n",
       "    .dataframe tbody tr th {\n",
       "        vertical-align: top;\n",
       "    }\n",
       "\n",
       "    .dataframe thead th {\n",
       "        text-align: right;\n",
       "    }\n",
       "</style>\n",
       "<table border=\"1\" class=\"dataframe\">\n",
       "  <thead>\n",
       "    <tr style=\"text-align: right;\">\n",
       "      <th></th>\n",
       "      <th>cement</th>\n",
       "      <th>slag</th>\n",
       "      <th>ash</th>\n",
       "      <th>water</th>\n",
       "      <th>superplastic</th>\n",
       "      <th>coarseagg</th>\n",
       "      <th>fineagg</th>\n",
       "      <th>age</th>\n",
       "    </tr>\n",
       "  </thead>\n",
       "  <tbody>\n",
       "    <tr>\n",
       "      <th>0</th>\n",
       "      <td>540.0</td>\n",
       "      <td>0.0</td>\n",
       "      <td>0.0</td>\n",
       "      <td>162.0</td>\n",
       "      <td>2.5</td>\n",
       "      <td>1040.0</td>\n",
       "      <td>676.0</td>\n",
       "      <td>28</td>\n",
       "    </tr>\n",
       "    <tr>\n",
       "      <th>1</th>\n",
       "      <td>540.0</td>\n",
       "      <td>0.0</td>\n",
       "      <td>0.0</td>\n",
       "      <td>162.0</td>\n",
       "      <td>2.5</td>\n",
       "      <td>1055.0</td>\n",
       "      <td>676.0</td>\n",
       "      <td>28</td>\n",
       "    </tr>\n",
       "    <tr>\n",
       "      <th>2</th>\n",
       "      <td>332.5</td>\n",
       "      <td>142.5</td>\n",
       "      <td>0.0</td>\n",
       "      <td>228.0</td>\n",
       "      <td>0.0</td>\n",
       "      <td>932.0</td>\n",
       "      <td>594.0</td>\n",
       "      <td>270</td>\n",
       "    </tr>\n",
       "    <tr>\n",
       "      <th>3</th>\n",
       "      <td>332.5</td>\n",
       "      <td>142.5</td>\n",
       "      <td>0.0</td>\n",
       "      <td>228.0</td>\n",
       "      <td>0.0</td>\n",
       "      <td>932.0</td>\n",
       "      <td>594.0</td>\n",
       "      <td>365</td>\n",
       "    </tr>\n",
       "    <tr>\n",
       "      <th>4</th>\n",
       "      <td>198.6</td>\n",
       "      <td>132.4</td>\n",
       "      <td>0.0</td>\n",
       "      <td>192.0</td>\n",
       "      <td>0.0</td>\n",
       "      <td>978.4</td>\n",
       "      <td>825.5</td>\n",
       "      <td>360</td>\n",
       "    </tr>\n",
       "  </tbody>\n",
       "</table>\n",
       "</div>"
      ],
      "text/plain": [
       "   cement   slag  ash  water  superplastic  coarseagg  fineagg  age\n",
       "0   540.0    0.0  0.0  162.0           2.5     1040.0    676.0   28\n",
       "1   540.0    0.0  0.0  162.0           2.5     1055.0    676.0   28\n",
       "2   332.5  142.5  0.0  228.0           0.0      932.0    594.0  270\n",
       "3   332.5  142.5  0.0  228.0           0.0      932.0    594.0  365\n",
       "4   198.6  132.4  0.0  192.0           0.0      978.4    825.5  360"
      ]
     },
     "execution_count": 11,
     "metadata": {},
     "output_type": "execute_result"
    }
   ],
   "source": [
    "X.head()"
   ]
  },
  {
   "cell_type": "code",
   "execution_count": 12,
   "metadata": {
    "scrolled": true
   },
   "outputs": [
    {
     "data": {
      "text/plain": [
       "0    79.99\n",
       "1    61.89\n",
       "2    40.27\n",
       "3    41.05\n",
       "4    44.30\n",
       "Name: strength, dtype: float64"
      ]
     },
     "execution_count": 12,
     "metadata": {},
     "output_type": "execute_result"
    }
   ],
   "source": [
    "y.head()"
   ]
  },
  {
   "cell_type": "markdown",
   "metadata": {},
   "source": [
    "## Scaling using StandardScalar"
   ]
  },
  {
   "cell_type": "code",
   "execution_count": 13,
   "metadata": {},
   "outputs": [
    {
     "data": {
      "text/html": [
       "<div>\n",
       "<style scoped>\n",
       "    .dataframe tbody tr th:only-of-type {\n",
       "        vertical-align: middle;\n",
       "    }\n",
       "\n",
       "    .dataframe tbody tr th {\n",
       "        vertical-align: top;\n",
       "    }\n",
       "\n",
       "    .dataframe thead th {\n",
       "        text-align: right;\n",
       "    }\n",
       "</style>\n",
       "<table border=\"1\" class=\"dataframe\">\n",
       "  <thead>\n",
       "    <tr style=\"text-align: right;\">\n",
       "      <th></th>\n",
       "      <th>cement</th>\n",
       "      <th>slag</th>\n",
       "      <th>ash</th>\n",
       "      <th>water</th>\n",
       "      <th>superplastic</th>\n",
       "      <th>coarseagg</th>\n",
       "      <th>fineagg</th>\n",
       "      <th>age</th>\n",
       "    </tr>\n",
       "  </thead>\n",
       "  <tbody>\n",
       "    <tr>\n",
       "      <th>0</th>\n",
       "      <td>2.477915</td>\n",
       "      <td>-0.856888</td>\n",
       "      <td>-0.847144</td>\n",
       "      <td>-0.916764</td>\n",
       "      <td>-0.620448</td>\n",
       "      <td>0.863154</td>\n",
       "      <td>-1.217670</td>\n",
       "      <td>-0.279733</td>\n",
       "    </tr>\n",
       "    <tr>\n",
       "      <th>1</th>\n",
       "      <td>2.477915</td>\n",
       "      <td>-0.856888</td>\n",
       "      <td>-0.847144</td>\n",
       "      <td>-0.916764</td>\n",
       "      <td>-0.620448</td>\n",
       "      <td>1.056164</td>\n",
       "      <td>-1.217670</td>\n",
       "      <td>-0.279733</td>\n",
       "    </tr>\n",
       "    <tr>\n",
       "      <th>2</th>\n",
       "      <td>0.491425</td>\n",
       "      <td>0.795526</td>\n",
       "      <td>-0.847144</td>\n",
       "      <td>2.175461</td>\n",
       "      <td>-1.039143</td>\n",
       "      <td>-0.526517</td>\n",
       "      <td>-2.240917</td>\n",
       "      <td>3.553066</td>\n",
       "    </tr>\n",
       "    <tr>\n",
       "      <th>3</th>\n",
       "      <td>0.491425</td>\n",
       "      <td>0.795526</td>\n",
       "      <td>-0.847144</td>\n",
       "      <td>2.175461</td>\n",
       "      <td>-1.039143</td>\n",
       "      <td>-0.526517</td>\n",
       "      <td>-2.240917</td>\n",
       "      <td>5.057677</td>\n",
       "    </tr>\n",
       "    <tr>\n",
       "      <th>4</th>\n",
       "      <td>-0.790459</td>\n",
       "      <td>0.678408</td>\n",
       "      <td>-0.847144</td>\n",
       "      <td>0.488793</td>\n",
       "      <td>-1.039143</td>\n",
       "      <td>0.070527</td>\n",
       "      <td>0.647884</td>\n",
       "      <td>4.978487</td>\n",
       "    </tr>\n",
       "  </tbody>\n",
       "</table>\n",
       "</div>"
      ],
      "text/plain": [
       "     cement      slag       ash     water  superplastic  coarseagg   fineagg  \\\n",
       "0  2.477915 -0.856888 -0.847144 -0.916764     -0.620448   0.863154 -1.217670   \n",
       "1  2.477915 -0.856888 -0.847144 -0.916764     -0.620448   1.056164 -1.217670   \n",
       "2  0.491425  0.795526 -0.847144  2.175461     -1.039143  -0.526517 -2.240917   \n",
       "3  0.491425  0.795526 -0.847144  2.175461     -1.039143  -0.526517 -2.240917   \n",
       "4 -0.790459  0.678408 -0.847144  0.488793     -1.039143   0.070527  0.647884   \n",
       "\n",
       "        age  \n",
       "0 -0.279733  \n",
       "1 -0.279733  \n",
       "2  3.553066  \n",
       "3  5.057677  \n",
       "4  4.978487  "
      ]
     },
     "execution_count": 13,
     "metadata": {},
     "output_type": "execute_result"
    }
   ],
   "source": [
    "column_name=X.columns\n",
    "X_scale=StandardScaler()\n",
    "X=X_scale.fit_transform(X)\n",
    "X=pd.DataFrame(X,columns=column_name)\n",
    "X.head()"
   ]
  },
  {
   "cell_type": "markdown",
   "metadata": {},
   "source": [
    "## splitting the data (train_test_split)"
   ]
  },
  {
   "cell_type": "code",
   "execution_count": 14,
   "metadata": {},
   "outputs": [],
   "source": [
    "X_train,X_test,y_train,y_test= train_test_split(X,y,test_size=0.3,random_state=10)"
   ]
  },
  {
   "cell_type": "markdown",
   "metadata": {},
   "source": [
    "## Modelling"
   ]
  },
  {
   "cell_type": "markdown",
   "metadata": {},
   "source": [
    "### Linear Regression"
   ]
  },
  {
   "cell_type": "code",
   "execution_count": 15,
   "metadata": {},
   "outputs": [],
   "source": [
    "model_concrete=LinearRegression()\n",
    "model_concrete.fit(X_train,y_train)\n",
    "y_predict=model_concrete.predict(X_test)"
   ]
  },
  {
   "cell_type": "code",
   "execution_count": 16,
   "metadata": {},
   "outputs": [
    {
     "data": {
      "text/plain": [
       "0.6232763845604509"
      ]
     },
     "execution_count": 16,
     "metadata": {},
     "output_type": "execute_result"
    }
   ],
   "source": [
    "r2_score(y_test,y_predict)"
   ]
  },
  {
   "cell_type": "code",
   "execution_count": 17,
   "metadata": {},
   "outputs": [
    {
     "data": {
      "text/plain": [
       "array([0.33015205, 0.41207076, 0.45175533, 0.60725028, 0.50374183])"
      ]
     },
     "execution_count": 17,
     "metadata": {},
     "output_type": "execute_result"
    }
   ],
   "source": [
    "cv_score=cross_val_score(LinearRegression(),X,y,cv=5,scoring='r2')\n",
    "cv_score"
   ]
  },
  {
   "cell_type": "markdown",
   "metadata": {},
   "source": [
    "##### r2_score obtained from Linear Regression model is little low so changing the model to SVM"
   ]
  },
  {
   "cell_type": "markdown",
   "metadata": {},
   "source": [
    "# SVM"
   ]
  },
  {
   "cell_type": "code",
   "execution_count": 18,
   "metadata": {},
   "outputs": [],
   "source": [
    "model=SVR()\n",
    "model.fit(X_train,y_train)\n",
    "y_predict=model.predict(X_test)"
   ]
  },
  {
   "cell_type": "code",
   "execution_count": 19,
   "metadata": {},
   "outputs": [
    {
     "data": {
      "text/plain": [
       "0.6521766486226026"
      ]
     },
     "execution_count": 19,
     "metadata": {},
     "output_type": "execute_result"
    }
   ],
   "source": [
    "r2_score(y_test,y_predict)"
   ]
  },
  {
   "cell_type": "code",
   "execution_count": 20,
   "metadata": {
    "scrolled": true
   },
   "outputs": [
    {
     "data": {
      "text/plain": [
       "array([0.14172103, 0.45898028, 0.50974069, 0.50121497, 0.07237454])"
      ]
     },
     "execution_count": 20,
     "metadata": {},
     "output_type": "execute_result"
    }
   ],
   "source": [
    "cv_score=cross_val_score(SVR(),X,y,cv=5,scoring='r2')\n",
    "cv_score"
   ]
  },
  {
   "cell_type": "markdown",
   "metadata": {},
   "source": [
    "#### r2_score obtained from SVM model is little low so changing the model to XGBOOST"
   ]
  },
  {
   "cell_type": "markdown",
   "metadata": {},
   "source": [
    "# XGBOOST\n"
   ]
  },
  {
   "cell_type": "code",
   "execution_count": 21,
   "metadata": {},
   "outputs": [],
   "source": [
    "model=XGBRegressor()\n",
    "model.fit(X_train,y_train)\n",
    "y_predict=model.predict(X_test)"
   ]
  },
  {
   "cell_type": "code",
   "execution_count": 22,
   "metadata": {},
   "outputs": [
    {
     "data": {
      "text/plain": [
       "0.936896713951996"
      ]
     },
     "execution_count": 22,
     "metadata": {},
     "output_type": "execute_result"
    }
   ],
   "source": [
    "r2_score(y_test,y_predict)"
   ]
  },
  {
   "cell_type": "code",
   "execution_count": 23,
   "metadata": {},
   "outputs": [
    {
     "data": {
      "text/plain": [
       "array([0.51458414, 0.73780853, 0.74805575, 0.58611929, 0.52439673,\n",
       "       0.71594573, 0.89362329, 0.79512643, 0.95644796, 0.94774196])"
      ]
     },
     "execution_count": 23,
     "metadata": {},
     "output_type": "execute_result"
    }
   ],
   "source": [
    "cv_score=cross_val_score(XGBRegressor(),X,y,cv=10,scoring='r2')\n",
    "cv_score"
   ]
  },
  {
   "cell_type": "code",
   "execution_count": 24,
   "metadata": {},
   "outputs": [
    {
     "name": "stdout",
     "output_type": "stream",
     "text": [
      "Average_cv_score :  0.7419849803009213\n",
      "min_cv_score :  0.5145841385734597\n",
      "max_cv_score :  0.95644796132279\n"
     ]
    }
   ],
   "source": [
    "print(\"Average_cv_score : \",np.mean(cv_score))\n",
    "print(\"min_cv_score : \",min(cv_score))\n",
    "print(\"max_cv_score : \",max(cv_score))"
   ]
  },
  {
   "cell_type": "markdown",
   "metadata": {},
   "source": [
    "## Defining the Parameters and grid"
   ]
  },
  {
   "cell_type": "code",
   "execution_count": 25,
   "metadata": {},
   "outputs": [
    {
     "name": "stdout",
     "output_type": "stream",
     "text": [
      "Fitting 5 folds for each of 10 candidates, totalling 50 fits\n",
      "[CV] n_estimators=120, max_depth=80, learning_rate=0.01, gamma=0.01 ..\n",
      "[CV]  n_estimators=120, max_depth=80, learning_rate=0.01, gamma=0.01, total=   0.1s\n",
      "[CV] n_estimators=120, max_depth=80, learning_rate=0.01, gamma=0.01 ..\n",
      "[CV]  n_estimators=120, max_depth=80, learning_rate=0.01, gamma=0.01, total=   0.1s"
     ]
    },
    {
     "name": "stderr",
     "output_type": "stream",
     "text": [
      "[Parallel(n_jobs=1)]: Using backend SequentialBackend with 1 concurrent workers.\n",
      "[Parallel(n_jobs=1)]: Done   1 out of   1 | elapsed:    0.0s remaining:    0.0s\n"
     ]
    },
    {
     "name": "stdout",
     "output_type": "stream",
     "text": [
      "\n",
      "[CV] n_estimators=120, max_depth=80, learning_rate=0.01, gamma=0.01 ..\n",
      "[CV]  n_estimators=120, max_depth=80, learning_rate=0.01, gamma=0.01, total=   0.1s\n",
      "[CV] n_estimators=120, max_depth=80, learning_rate=0.01, gamma=0.01 ..\n",
      "[CV]  n_estimators=120, max_depth=80, learning_rate=0.01, gamma=0.01, total=   0.1s\n",
      "[CV] n_estimators=120, max_depth=80, learning_rate=0.01, gamma=0.01 ..\n",
      "[CV]  n_estimators=120, max_depth=80, learning_rate=0.01, gamma=0.01, total=   0.1s\n",
      "[CV] n_estimators=80, max_depth=50, learning_rate=0.1, gamma=0.03 ....\n",
      "[CV]  n_estimators=80, max_depth=50, learning_rate=0.1, gamma=0.03, total=   0.1s\n",
      "[CV] n_estimators=80, max_depth=50, learning_rate=0.1, gamma=0.03 ....\n",
      "[CV]  n_estimators=80, max_depth=50, learning_rate=0.1, gamma=0.03, total=   0.1s\n",
      "[CV] n_estimators=80, max_depth=50, learning_rate=0.1, gamma=0.03 ....\n",
      "[CV]  n_estimators=80, max_depth=50, learning_rate=0.1, gamma=0.03, total=   0.1s\n",
      "[CV] n_estimators=80, max_depth=50, learning_rate=0.1, gamma=0.03 ....\n",
      "[CV]  n_estimators=80, max_depth=50, learning_rate=0.1, gamma=0.03, total=   0.2s\n",
      "[CV] n_estimators=80, max_depth=50, learning_rate=0.1, gamma=0.03 ....\n",
      "[CV]  n_estimators=80, max_depth=50, learning_rate=0.1, gamma=0.03, total=   0.2s\n",
      "[CV] n_estimators=120, max_depth=100, learning_rate=0.1, gamma=0.05 ..\n",
      "[CV]  n_estimators=120, max_depth=100, learning_rate=0.1, gamma=0.05, total=   0.3s\n",
      "[CV] n_estimators=120, max_depth=100, learning_rate=0.1, gamma=0.05 ..\n",
      "[CV]  n_estimators=120, max_depth=100, learning_rate=0.1, gamma=0.05, total=   0.3s\n",
      "[CV] n_estimators=120, max_depth=100, learning_rate=0.1, gamma=0.05 ..\n",
      "[CV]  n_estimators=120, max_depth=100, learning_rate=0.1, gamma=0.05, total=   0.3s\n",
      "[CV] n_estimators=120, max_depth=100, learning_rate=0.1, gamma=0.05 ..\n",
      "[CV]  n_estimators=120, max_depth=100, learning_rate=0.1, gamma=0.05, total=   0.3s\n",
      "[CV] n_estimators=120, max_depth=100, learning_rate=0.1, gamma=0.05 ..\n",
      "[CV]  n_estimators=120, max_depth=100, learning_rate=0.1, gamma=0.05, total=   0.3s\n",
      "[CV] n_estimators=120, max_depth=100, learning_rate=0.01, gamma=0.05 .\n",
      "[CV]  n_estimators=120, max_depth=100, learning_rate=0.01, gamma=0.05, total=   0.1s\n",
      "[CV] n_estimators=120, max_depth=100, learning_rate=0.01, gamma=0.05 .\n",
      "[CV]  n_estimators=120, max_depth=100, learning_rate=0.01, gamma=0.05, total=   0.1s\n",
      "[CV] n_estimators=120, max_depth=100, learning_rate=0.01, gamma=0.05 .\n",
      "[CV]  n_estimators=120, max_depth=100, learning_rate=0.01, gamma=0.05, total=   0.1s\n",
      "[CV] n_estimators=120, max_depth=100, learning_rate=0.01, gamma=0.05 .\n",
      "[CV]  n_estimators=120, max_depth=100, learning_rate=0.01, gamma=0.05, total=   0.1s\n",
      "[CV] n_estimators=120, max_depth=100, learning_rate=0.01, gamma=0.05 .\n",
      "[CV]  n_estimators=120, max_depth=100, learning_rate=0.01, gamma=0.05, total=   0.1s\n",
      "[CV] n_estimators=120, max_depth=100, learning_rate=0.2, gamma=0.01 ..\n",
      "[CV]  n_estimators=120, max_depth=100, learning_rate=0.2, gamma=0.01, total=   0.3s\n",
      "[CV] n_estimators=120, max_depth=100, learning_rate=0.2, gamma=0.01 ..\n",
      "[CV]  n_estimators=120, max_depth=100, learning_rate=0.2, gamma=0.01, total=   1.6s\n",
      "[CV] n_estimators=120, max_depth=100, learning_rate=0.2, gamma=0.01 ..\n",
      "[CV]  n_estimators=120, max_depth=100, learning_rate=0.2, gamma=0.01, total=   2.6s\n",
      "[CV] n_estimators=120, max_depth=100, learning_rate=0.2, gamma=0.01 ..\n",
      "[CV]  n_estimators=120, max_depth=100, learning_rate=0.2, gamma=0.01, total=   2.4s\n",
      "[CV] n_estimators=120, max_depth=100, learning_rate=0.2, gamma=0.01 ..\n",
      "[CV]  n_estimators=120, max_depth=100, learning_rate=0.2, gamma=0.01, total=   0.6s\n",
      "[CV] n_estimators=100, max_depth=50, learning_rate=0.01, gamma=0.05 ..\n",
      "[CV]  n_estimators=100, max_depth=50, learning_rate=0.01, gamma=0.05, total=   0.1s\n",
      "[CV] n_estimators=100, max_depth=50, learning_rate=0.01, gamma=0.05 ..\n",
      "[CV]  n_estimators=100, max_depth=50, learning_rate=0.01, gamma=0.05, total=   0.1s\n",
      "[CV] n_estimators=100, max_depth=50, learning_rate=0.01, gamma=0.05 ..\n",
      "[CV]  n_estimators=100, max_depth=50, learning_rate=0.01, gamma=0.05, total=   0.1s\n",
      "[CV] n_estimators=100, max_depth=50, learning_rate=0.01, gamma=0.05 ..\n",
      "[CV]  n_estimators=100, max_depth=50, learning_rate=0.01, gamma=0.05, total=   0.1s\n",
      "[CV] n_estimators=100, max_depth=50, learning_rate=0.01, gamma=0.05 ..\n",
      "[CV]  n_estimators=100, max_depth=50, learning_rate=0.01, gamma=0.05, total=   0.1s\n",
      "[CV] n_estimators=120, max_depth=100, learning_rate=0.15, gamma=0.01 .\n",
      "[CV]  n_estimators=120, max_depth=100, learning_rate=0.15, gamma=0.01, total=   0.3s\n",
      "[CV] n_estimators=120, max_depth=100, learning_rate=0.15, gamma=0.01 .\n",
      "[CV]  n_estimators=120, max_depth=100, learning_rate=0.15, gamma=0.01, total=   0.3s\n",
      "[CV] n_estimators=120, max_depth=100, learning_rate=0.15, gamma=0.01 .\n",
      "[CV]  n_estimators=120, max_depth=100, learning_rate=0.15, gamma=0.01, total=   0.3s\n",
      "[CV] n_estimators=120, max_depth=100, learning_rate=0.15, gamma=0.01 .\n",
      "[CV]  n_estimators=120, max_depth=100, learning_rate=0.15, gamma=0.01, total=   0.3s\n",
      "[CV] n_estimators=120, max_depth=100, learning_rate=0.15, gamma=0.01 .\n",
      "[CV]  n_estimators=120, max_depth=100, learning_rate=0.15, gamma=0.01, total=   0.3s\n",
      "[CV] n_estimators=80, max_depth=80, learning_rate=0.15, gamma=0.01 ...\n",
      "[CV]  n_estimators=80, max_depth=80, learning_rate=0.15, gamma=0.01, total=   0.2s\n",
      "[CV] n_estimators=80, max_depth=80, learning_rate=0.15, gamma=0.01 ...\n",
      "[CV]  n_estimators=80, max_depth=80, learning_rate=0.15, gamma=0.01, total=   0.2s\n",
      "[CV] n_estimators=80, max_depth=80, learning_rate=0.15, gamma=0.01 ...\n",
      "[CV]  n_estimators=80, max_depth=80, learning_rate=0.15, gamma=0.01, total=   0.2s\n",
      "[CV] n_estimators=80, max_depth=80, learning_rate=0.15, gamma=0.01 ...\n",
      "[CV]  n_estimators=80, max_depth=80, learning_rate=0.15, gamma=0.01, total=   0.2s\n",
      "[CV] n_estimators=80, max_depth=80, learning_rate=0.15, gamma=0.01 ...\n",
      "[CV]  n_estimators=80, max_depth=80, learning_rate=0.15, gamma=0.01, total=   0.2s\n",
      "[CV] n_estimators=80, max_depth=20, learning_rate=0.01, gamma=0.01 ...\n",
      "[CV]  n_estimators=80, max_depth=20, learning_rate=0.01, gamma=0.01, total=   0.1s\n",
      "[CV] n_estimators=80, max_depth=20, learning_rate=0.01, gamma=0.01 ...\n",
      "[CV]  n_estimators=80, max_depth=20, learning_rate=0.01, gamma=0.01, total=   0.1s\n",
      "[CV] n_estimators=80, max_depth=20, learning_rate=0.01, gamma=0.01 ...\n",
      "[CV]  n_estimators=80, max_depth=20, learning_rate=0.01, gamma=0.01, total=   0.1s\n",
      "[CV] n_estimators=80, max_depth=20, learning_rate=0.01, gamma=0.01 ...\n",
      "[CV]  n_estimators=80, max_depth=20, learning_rate=0.01, gamma=0.01, total=   0.1s\n",
      "[CV] n_estimators=80, max_depth=20, learning_rate=0.01, gamma=0.01 ...\n",
      "[CV]  n_estimators=80, max_depth=20, learning_rate=0.01, gamma=0.01, total=   0.1s\n",
      "[CV] n_estimators=120, max_depth=100, learning_rate=0.2, gamma=0.03 ..\n",
      "[CV]  n_estimators=120, max_depth=100, learning_rate=0.2, gamma=0.03, total=   0.3s\n",
      "[CV] n_estimators=120, max_depth=100, learning_rate=0.2, gamma=0.03 ..\n",
      "[CV]  n_estimators=120, max_depth=100, learning_rate=0.2, gamma=0.03, total=   0.3s\n",
      "[CV] n_estimators=120, max_depth=100, learning_rate=0.2, gamma=0.03 ..\n",
      "[CV]  n_estimators=120, max_depth=100, learning_rate=0.2, gamma=0.03, total=   0.3s\n",
      "[CV] n_estimators=120, max_depth=100, learning_rate=0.2, gamma=0.03 ..\n",
      "[CV]  n_estimators=120, max_depth=100, learning_rate=0.2, gamma=0.03, total=   0.3s\n",
      "[CV] n_estimators=120, max_depth=100, learning_rate=0.2, gamma=0.03 ..\n",
      "[CV]  n_estimators=120, max_depth=100, learning_rate=0.2, gamma=0.03, total=   0.3s\n"
     ]
    },
    {
     "name": "stderr",
     "output_type": "stream",
     "text": [
      "[Parallel(n_jobs=1)]: Done  50 out of  50 | elapsed:   15.0s finished\n"
     ]
    },
    {
     "data": {
      "text/plain": [
       "RandomizedSearchCV(cv=None, error_score=nan,\n",
       "                   estimator=XGBRegressor(base_score=None, booster=None,\n",
       "                                          colsample_bylevel=None,\n",
       "                                          colsample_bynode=None,\n",
       "                                          colsample_bytree=None, gamma=None,\n",
       "                                          gpu_id=None, importance_type='gain',\n",
       "                                          interaction_constraints=None,\n",
       "                                          learning_rate=None,\n",
       "                                          max_delta_step=None, max_depth=None,\n",
       "                                          min_child_weight=None, missing=nan,\n",
       "                                          monotone_constraints=None...\n",
       "                                          scale_pos_weight=None, subsample=None,\n",
       "                                          tree_method=None,\n",
       "                                          validate_parameters=None,\n",
       "                                          verbosity=None),\n",
       "                   iid='deprecated', n_iter=10, n_jobs=None,\n",
       "                   param_distributions={'gamma': [0.01, 0.02, 0.03, 0.04, 0.05],\n",
       "                                        'learning_rate': [0.01, 0.1, 0.15, 0.2],\n",
       "                                        'max_depth': [20, 50, 80, 100],\n",
       "                                        'n_estimators': [80, 100, 120]},\n",
       "                   pre_dispatch='2*n_jobs', random_state=None, refit=True,\n",
       "                   return_train_score=False, scoring='r2', verbose=2)"
      ]
     },
     "execution_count": 25,
     "metadata": {},
     "output_type": "execute_result"
    }
   ],
   "source": [
    "params={'n_estimators':[80,100,120],'learning_rate':[0.01,0.1,0.15,0.2], 'max_depth':[20,50,80,100],'gamma':[0.01,0.02,0.03,0.04,0.05]}\n",
    "grid=RandomizedSearchCV(XGBRegressor(),params,scoring='r2',verbose=2)\n",
    "grid.fit(X_train,y_train)"
   ]
  },
  {
   "cell_type": "code",
   "execution_count": 26,
   "metadata": {},
   "outputs": [
    {
     "data": {
      "text/plain": [
       "0.8939668294729767"
      ]
     },
     "execution_count": 26,
     "metadata": {},
     "output_type": "execute_result"
    }
   ],
   "source": [
    "grid.best_score_"
   ]
  },
  {
   "cell_type": "code",
   "execution_count": 27,
   "metadata": {},
   "outputs": [
    {
     "data": {
      "text/plain": [
       "{'n_estimators': 120, 'max_depth': 100, 'learning_rate': 0.1, 'gamma': 0.05}"
      ]
     },
     "execution_count": 27,
     "metadata": {},
     "output_type": "execute_result"
    }
   ],
   "source": [
    "grid.best_params_"
   ]
  },
  {
   "cell_type": "markdown",
   "metadata": {},
   "source": [
    "# Recreating model using best_params"
   ]
  },
  {
   "cell_type": "code",
   "execution_count": 28,
   "metadata": {},
   "outputs": [],
   "source": [
    "model=XGBRegressor(n_estimators= 120, max_depth= 80, learning_rate=0.1, gamma=0.01)\n",
    "model.fit(X_train,y_train)\n",
    "y_predict=model.predict(X_test)\n"
   ]
  },
  {
   "cell_type": "code",
   "execution_count": 29,
   "metadata": {},
   "outputs": [
    {
     "data": {
      "text/plain": [
       "0.9281586633796942"
      ]
     },
     "execution_count": 29,
     "metadata": {},
     "output_type": "execute_result"
    }
   ],
   "source": [
    "r2_score(y_test,y_predict)"
   ]
  },
  {
   "cell_type": "markdown",
   "metadata": {},
   "source": [
    "#### since Xgboost has got 92.8% r2_score it can be selected as the best model to study the strength of cement concrete mixture.\n",
    "#### while considering cv_score it ranges from 70% to 80% hence the model is not overfitted."
   ]
  }
 ],
 "metadata": {
  "kernelspec": {
   "display_name": "Python 3",
   "language": "python",
   "name": "python3"
  },
  "language_info": {
   "codemirror_mode": {
    "name": "ipython",
    "version": 3
   },
   "file_extension": ".py",
   "mimetype": "text/x-python",
   "name": "python",
   "nbconvert_exporter": "python",
   "pygments_lexer": "ipython3",
   "version": "3.7.6"
  }
 },
 "nbformat": 4,
 "nbformat_minor": 4
}
